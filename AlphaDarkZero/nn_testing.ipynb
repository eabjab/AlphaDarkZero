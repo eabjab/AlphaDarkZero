{
 "cells": [
  {
   "cell_type": "code",
   "execution_count": 1,
   "outputs": [],
   "source": [
    "%load_ext autoreload\n",
    "%autoreload 2"
   ],
   "metadata": {
    "collapsed": false
   }
  },
  {
   "cell_type": "code",
   "execution_count": 1,
   "metadata": {
    "collapsed": true
   },
   "outputs": [],
   "source": [
    "import torch\n",
    "import numpy as np\n",
    "from MoveNN import RLModel\n",
    "from ProbNN import ProbabilityNN"
   ]
  },
  {
   "cell_type": "code",
   "execution_count": 2,
   "outputs": [],
   "source": [
    "def test_probability_nn(batch_size):\n",
    "    input_shape = (batch_size, 185, 8, 8)\n",
    "    expected_output_shape = (batch_size, 6, 8, 8)\n",
    "\n",
    "    # Create a random input tensor with the specified shape\n",
    "    input_tensor = torch.randn(input_shape)\n",
    "\n",
    "    # Initialize the ProbabilityNN model\n",
    "    model = ProbabilityNN()\n",
    "\n",
    "    # Pass the input tensor through the model\n",
    "    output_tensor = model(input_tensor)\n",
    "\n",
    "    # Check if the output tensor has the expected shape\n",
    "    assert output_tensor.shape == expected_output_shape, f\"Expected output shape: {expected_output_shape}, but got: {output_tensor.shape}\"\n",
    "    print(f\"Test passed! Input shape: {input_shape}, output shape: {output_tensor.shape}\")\n",
    "    print(output_tensor)\n",
    "    print(output_tensor.sum(axis=(2, 3)))\n"
   ],
   "metadata": {
    "collapsed": false
   }
  },
  {
   "cell_type": "code",
   "execution_count": 3,
   "outputs": [
    {
     "name": "stdout",
     "output_type": "stream",
     "text": [
      "Test passed! Input shape: (1, 185, 8, 8), output shape: torch.Size([1, 6, 8, 8])\n",
      "tensor([[[[1.1024e-01, 8.1527e-03, 1.4641e-02, 9.7409e-03, 3.1449e-03,\n",
      "           2.9003e-02, 8.2479e-03, 4.6245e-03],\n",
      "          [2.1610e-02, 1.4248e-04, 2.8163e-03, 7.0873e-04, 3.5219e-03,\n",
      "           1.2948e-04, 3.5020e-04, 3.0819e-03],\n",
      "          [3.7099e-03, 1.6459e-02, 1.5199e-02, 2.5741e-03, 3.3812e-03,\n",
      "           4.4944e-03, 9.0180e-04, 1.1122e-02],\n",
      "          [1.6343e-01, 1.2310e-03, 3.8266e-02, 2.4200e-02, 1.6657e-03,\n",
      "           3.0788e-04, 5.2328e-02, 2.7621e-03],\n",
      "          [1.6098e-02, 3.7511e-04, 5.3862e-05, 2.0166e-02, 1.4172e-03,\n",
      "           1.4489e-04, 5.3105e-02, 4.6095e-03],\n",
      "          [1.9566e-04, 3.2098e-04, 5.7715e-02, 1.0696e-05, 5.4110e-03,\n",
      "           2.3972e-03, 3.2081e-03, 1.4520e-01],\n",
      "          [1.0753e-02, 5.6274e-02, 1.7072e-02, 1.0219e-04, 4.2263e-04,\n",
      "           1.1580e-02, 8.2956e-03, 1.1882e-03],\n",
      "          [3.4227e-03, 9.8882e-03, 2.3655e-04, 1.4086e-03, 3.3977e-03,\n",
      "           1.6792e-04, 6.4072e-04, 2.5427e-03]],\n",
      "\n",
      "         [[5.6739e-04, 3.1187e-03, 5.2756e-04, 3.9524e-03, 2.6658e-03,\n",
      "           1.2258e-03, 1.6907e-02, 4.1437e-03],\n",
      "          [9.3788e-03, 3.1939e-02, 1.3503e-02, 5.3801e-04, 1.3780e-02,\n",
      "           1.6051e-01, 6.0610e-03, 1.4965e-03],\n",
      "          [9.9403e-04, 8.9479e-02, 5.5262e-03, 4.3693e-04, 4.0230e-04,\n",
      "           1.3021e-03, 8.4687e-03, 5.5650e-04],\n",
      "          [1.4567e-03, 1.5292e-02, 1.5095e-03, 2.3310e-02, 1.3869e-01,\n",
      "           1.9721e-02, 9.4068e-03, 1.1771e-03],\n",
      "          [1.6624e-04, 1.1099e-02, 3.6989e-04, 3.0603e-04, 5.2379e-05,\n",
      "           5.4206e-04, 6.9684e-03, 1.0274e-03],\n",
      "          [1.1843e-01, 8.0332e-04, 1.9986e-04, 2.3501e-04, 5.1169e-04,\n",
      "           9.2384e-02, 2.2898e-03, 1.6693e-02],\n",
      "          [1.5981e-04, 1.4933e-02, 1.5312e-05, 1.2647e-03, 1.1835e-06,\n",
      "           1.9812e-03, 5.7215e-03, 7.0215e-05],\n",
      "          [1.2714e-02, 4.8187e-04, 8.2944e-02, 4.0532e-03, 2.3300e-03,\n",
      "           2.1367e-02, 1.1715e-02, 1.2168e-04]],\n",
      "\n",
      "         [[4.3635e-04, 1.6825e-03, 4.4733e-03, 2.6937e-03, 1.5451e-02,\n",
      "           1.3795e-02, 2.4380e-03, 3.4772e-03],\n",
      "          [2.2335e-01, 5.2092e-03, 3.2308e-02, 1.6197e-01, 8.3424e-04,\n",
      "           1.9394e-03, 2.9035e-03, 6.7638e-04],\n",
      "          [6.3480e-04, 1.0825e-03, 1.0162e-01, 3.4813e-05, 1.1287e-03,\n",
      "           1.4617e-04, 1.5334e-03, 3.5068e-04],\n",
      "          [5.0987e-03, 3.3071e-05, 1.6076e-02, 2.9861e-04, 1.2385e-01,\n",
      "           8.8112e-06, 7.9496e-05, 6.7225e-03],\n",
      "          [3.7789e-04, 1.7013e-03, 1.2048e-02, 1.2844e-03, 3.8945e-02,\n",
      "           6.6168e-04, 3.9929e-05, 7.4369e-04],\n",
      "          [2.3028e-03, 7.2611e-04, 1.6370e-02, 3.0665e-04, 2.4078e-02,\n",
      "           2.2419e-05, 1.2503e-03, 6.6926e-04],\n",
      "          [7.9999e-04, 3.6622e-04, 1.5455e-02, 3.0186e-02, 1.3572e-03,\n",
      "           1.2688e-04, 1.8167e-02, 2.9449e-03],\n",
      "          [3.4839e-02, 1.0113e-02, 3.4804e-03, 2.9003e-03, 2.2735e-02,\n",
      "           6.4535e-03, 1.3788e-02, 2.4256e-03]],\n",
      "\n",
      "         [[6.4873e-06, 1.2509e-05, 3.1392e-04, 3.9529e-03, 1.4119e-05,\n",
      "           6.0495e-05, 1.5539e-03, 3.4539e-03],\n",
      "          [3.0713e-05, 1.9265e-02, 1.7744e-05, 2.0187e-04, 4.0096e-03,\n",
      "           4.9163e-02, 2.2432e-04, 2.2025e-02],\n",
      "          [4.8898e-05, 3.1242e-02, 6.1996e-04, 9.7097e-02, 4.0771e-03,\n",
      "           2.9478e-02, 8.6231e-03, 3.8131e-02],\n",
      "          [3.9151e-04, 2.5062e-03, 5.4288e-03, 3.2260e-03, 1.7015e-05,\n",
      "           1.7011e-02, 3.9537e-04, 2.6949e-02],\n",
      "          [3.3542e-04, 7.7944e-03, 5.6379e-05, 1.7161e-03, 3.4619e-05,\n",
      "           5.6780e-04, 1.8431e-02, 1.5074e-02],\n",
      "          [1.1545e-04, 3.9729e-04, 1.0556e-01, 1.0211e-03, 4.7624e-05,\n",
      "           1.1288e-03, 4.2932e-03, 1.2639e-02],\n",
      "          [3.1988e-04, 8.1675e-03, 9.9330e-02, 2.9059e-03, 2.4487e-01,\n",
      "           3.6510e-02, 5.4875e-04, 8.1001e-03],\n",
      "          [3.1550e-04, 1.8240e-03, 9.2188e-03, 5.8730e-03, 2.5468e-02,\n",
      "           5.1548e-03, 9.2667e-03, 3.3647e-03]],\n",
      "\n",
      "         [[3.4000e-03, 5.1472e-03, 4.0001e-02, 2.9751e-03, 6.7560e-03,\n",
      "           8.2531e-03, 5.5668e-03, 7.6994e-03],\n",
      "          [1.6385e-01, 1.3488e-02, 3.1872e-03, 9.1542e-03, 2.1295e-03,\n",
      "           1.1317e-01, 2.2567e-02, 9.5365e-02],\n",
      "          [2.2554e-02, 4.3480e-03, 9.1228e-04, 8.6644e-06, 5.4289e-03,\n",
      "           3.9334e-04, 1.3507e-02, 1.7276e-02],\n",
      "          [2.6237e-03, 6.3191e-04, 5.0371e-04, 1.2326e-05, 2.0853e-02,\n",
      "           9.4497e-04, 4.7537e-03, 8.7836e-03],\n",
      "          [1.0977e-03, 5.0456e-04, 8.9426e-05, 2.5471e-03, 1.5483e-03,\n",
      "           4.1367e-03, 2.8297e-03, 7.9871e-03],\n",
      "          [6.6649e-02, 7.1360e-02, 2.4039e-05, 2.7257e-02, 5.8138e-03,\n",
      "           9.8303e-02, 1.0535e-03, 3.5354e-04],\n",
      "          [1.3461e-03, 3.4758e-03, 3.3600e-03, 3.3765e-02, 3.8139e-03,\n",
      "           6.9928e-05, 1.1192e-02, 7.3163e-04],\n",
      "          [2.2357e-02, 3.8537e-03, 4.6058e-03, 2.2213e-03, 3.3572e-04,\n",
      "           4.0015e-03, 2.8215e-03, 4.2484e-03]],\n",
      "\n",
      "         [[5.6713e-03, 1.9564e-04, 5.8616e-03, 7.1570e-04, 6.5335e-04,\n",
      "           1.4174e-02, 5.4812e-03, 1.9540e-03],\n",
      "          [6.7424e-05, 5.0495e-04, 1.0552e-03, 7.4450e-03, 2.2492e-03,\n",
      "           1.1541e-03, 4.9459e-03, 8.8354e-03],\n",
      "          [3.6655e-03, 5.7185e-03, 9.1698e-05, 3.1769e-03, 1.4006e-03,\n",
      "           1.7031e-03, 5.4749e-03, 1.0064e-03],\n",
      "          [1.8581e-03, 5.9191e-04, 1.4078e-04, 1.0750e-02, 2.9726e-04,\n",
      "           4.2473e-01, 5.7983e-04, 5.6405e-03],\n",
      "          [4.4750e-02, 6.0650e-04, 1.3232e-01, 7.2747e-05, 7.2480e-04,\n",
      "           2.0994e-03, 2.3796e-02, 2.1820e-03],\n",
      "          [9.8214e-03, 2.2167e-04, 3.8441e-04, 5.0725e-02, 1.7614e-03,\n",
      "           6.3796e-03, 7.8122e-04, 1.0506e-04],\n",
      "          [3.0637e-04, 3.2628e-05, 1.6976e-03, 1.7316e-05, 3.9341e-04,\n",
      "           4.1164e-04, 8.5167e-03, 3.2969e-04],\n",
      "          [2.4447e-02, 1.0393e-03, 6.2867e-02, 3.4937e-02, 2.8419e-03,\n",
      "           5.0243e-02, 5.6837e-03, 1.7236e-03]]]], grad_fn=<ViewBackward0>)\n",
      "tensor([[1.0000, 1.0000, 1.0000, 1.0000, 1.0000, 1.0000]],\n",
      "       grad_fn=<SumBackward1>)\n"
     ]
    }
   ],
   "source": [
    "test_probability_nn(1)"
   ],
   "metadata": {
    "collapsed": false
   }
  },
  {
   "cell_type": "code",
   "execution_count": 17,
   "outputs": [],
   "source": [
    "def test_rl_model(batch_size):\n",
    "    model = RLModel()\n",
    "    input_shape = (batch_size, 17, 8, 8)\n",
    "    input_data = torch.randn(input_shape)\n",
    "\n",
    "    output_data = model(input_data)\n",
    "    output_shape = output_data.shape\n",
    "\n",
    "    expected_output_shape = (batch_size, 1)\n",
    "    assert output_shape == expected_output_shape, f\"Expected output shape {expected_output_shape}, but got {output_shape}\"\n",
    "\n",
    "    assert output_data.min() >= -1 and output_data.max() <= 1, f\"Expected output values to be in range [-1, 1], but got min: {output_data.min()}, max: {output_data.max()}\"\n",
    "\n",
    "    print(f'output values: {output_data}')\n",
    "    print(\"Test passed!\")"
   ],
   "metadata": {
    "collapsed": false
   }
  },
  {
   "cell_type": "code",
   "execution_count": 18,
   "outputs": [
    {
     "name": "stdout",
     "output_type": "stream",
     "text": [
      "output values: tensor([[-0.3326]], grad_fn=<TanhBackward0>)\n",
      "Test passed!\n"
     ]
    }
   ],
   "source": [
    "test_rl_model(1)"
   ],
   "metadata": {
    "collapsed": false
   }
  },
  {
   "cell_type": "code",
   "execution_count": 69,
   "outputs": [],
   "source": [
    "import chess\n",
    "from FogOfWarBoard import FogOfWarChessBoard\n",
    "from utils import *\n",
    "# TODO maybe add an additional fog layer to NNs so they know when an enemy piece is in front of a pawn, but not what it is"
   ],
   "metadata": {
    "collapsed": false
   }
  },
  {
   "cell_type": "code",
   "execution_count": 55,
   "outputs": [
    {
     "name": "stdout",
     "output_type": "stream",
     "text": [
      ". . . . . . . .\n",
      ". . . . . . . .\n",
      ". . . . . . . .\n",
      ". . . . . . . .\n",
      ". . . . . . . .\n",
      ". . . . . . . .\n",
      "P P P P P P P P\n",
      "R N B Q K B N R\n"
     ]
    }
   ],
   "source": [
    "# Set up the board\n",
    "fog_of_war_board = FogOfWarChessBoard()\n",
    "\n",
    "# Get the masked board state for the current player (white)\n",
    "masked_board_state = get_masked_board_state(fog_of_war_board, chess.WHITE)\n",
    "print(masked_board_state)"
   ],
   "metadata": {
    "collapsed": false
   }
  },
  {
   "cell_type": "code",
   "execution_count": 56,
   "outputs": [
    {
     "data": {
      "text/plain": "Move.from_uci('e2e4')"
     },
     "execution_count": 56,
     "metadata": {},
     "output_type": "execute_result"
    }
   ],
   "source": [
    "fog_of_war_board.push_san(\"e4\")"
   ],
   "metadata": {
    "collapsed": false
   }
  },
  {
   "cell_type": "code",
   "execution_count": 57,
   "outputs": [
    {
     "name": "stdout",
     "output_type": "stream",
     "text": [
      ". . . . . . . .\n",
      ". . . . . . . .\n",
      ". . . . . . . .\n",
      ". . . . . . . .\n",
      ". . . . . . . .\n",
      ". . . . . . . .\n",
      "P P P P P P P P\n",
      "R N B Q K B N R\n"
     ]
    }
   ],
   "source": [
    "masked_board_state = get_masked_board_state(fog_of_war_board, chess.BLACK)\n",
    "print(masked_board_state)"
   ],
   "metadata": {
    "collapsed": false
   }
  },
  {
   "cell_type": "code",
   "execution_count": 58,
   "outputs": [
    {
     "data": {
      "text/plain": "Move.from_uci('e7e5')"
     },
     "execution_count": 58,
     "metadata": {},
     "output_type": "execute_result"
    }
   ],
   "source": [
    "fog_of_war_board.push_san(\"e5\")"
   ],
   "metadata": {
    "collapsed": false
   }
  },
  {
   "cell_type": "code",
   "execution_count": 59,
   "outputs": [
    {
     "name": "stdout",
     "output_type": "stream",
     "text": [
      ". . . . . . . .\n",
      ". . . . . . . .\n",
      ". . . . . . . .\n",
      ". . . . . . . .\n",
      ". . . . P . . .\n",
      ". . . . . . . .\n",
      "P P P P . P P P\n",
      "R N B Q K B N R\n"
     ]
    }
   ],
   "source": [
    "masked_board_state = get_masked_board_state(fog_of_war_board, chess.WHITE)\n",
    "print(masked_board_state)"
   ],
   "metadata": {
    "collapsed": false
   }
  },
  {
   "cell_type": "code",
   "execution_count": 60,
   "outputs": [
    {
     "data": {
      "text/plain": "Move.from_uci('f2f4')"
     },
     "execution_count": 60,
     "metadata": {},
     "output_type": "execute_result"
    }
   ],
   "source": [
    "fog_of_war_board.push_san(\"f4\")"
   ],
   "metadata": {
    "collapsed": false
   }
  },
  {
   "cell_type": "code",
   "execution_count": 61,
   "outputs": [
    {
     "name": "stdout",
     "output_type": "stream",
     "text": [
      ". . . . . . . .\n",
      ". . . . . . . .\n",
      ". . . . . . . .\n",
      ". . . . p . . .\n",
      ". . . . P P . .\n",
      ". . . . . . . .\n",
      "P P P P . . P P\n",
      "R N B Q K B N R\n"
     ]
    }
   ],
   "source": [
    "masked_board_state = get_masked_board_state(fog_of_war_board, chess.WHITE)\n",
    "print(masked_board_state)"
   ],
   "metadata": {
    "collapsed": false
   }
  },
  {
   "cell_type": "code",
   "execution_count": 62,
   "outputs": [
    {
     "data": {
      "text/plain": "Move.from_uci('d8h4')"
     },
     "execution_count": 62,
     "metadata": {},
     "output_type": "execute_result"
    }
   ],
   "source": [
    "fog_of_war_board.push_san(\"Qh4\")"
   ],
   "metadata": {
    "collapsed": false
   }
  },
  {
   "cell_type": "code",
   "execution_count": 63,
   "outputs": [
    {
     "name": "stdout",
     "output_type": "stream",
     "text": [
      ". . . . k . . .\n",
      ". . . . . . . p\n",
      ". . . . . . . .\n",
      ". . . . . p . Q\n",
      ". . . . P . . .\n",
      ". . . . . . . .\n",
      "P P P P . P P P\n",
      "R N B . K B N R\n"
     ]
    }
   ],
   "source": [
    "masked_board_state = get_masked_board_state(fog_of_war_board, chess.BLACK)\n",
    "print(masked_board_state)"
   ],
   "metadata": {
    "collapsed": false
   }
  },
  {
   "cell_type": "code",
   "execution_count": 64,
   "outputs": [
    {
     "data": {
      "text/plain": "True"
     },
     "execution_count": 64,
     "metadata": {},
     "output_type": "execute_result"
    }
   ],
   "source": [
    "fog_of_war_board.turn"
   ],
   "metadata": {
    "collapsed": false
   }
  },
  {
   "cell_type": "code",
   "execution_count": 65,
   "outputs": [
    {
     "data": {
      "text/plain": "Move.from_uci('e1f2')"
     },
     "execution_count": 65,
     "metadata": {},
     "output_type": "execute_result"
    }
   ],
   "source": [
    "fog_of_war_board.push_uci(\"e1f2\")"
   ],
   "metadata": {
    "collapsed": false
   }
  },
  {
   "cell_type": "code",
   "execution_count": 66,
   "outputs": [
    {
     "name": "stdout",
     "output_type": "stream",
     "text": [
      ". . . . . . . .\n",
      ". . . . . k . p\n",
      ". . . . . . . .\n",
      ". . . . . p . Q\n",
      ". . . . P . . .\n",
      ". . . . . . . .\n",
      "P P P P . P P P\n",
      "R N B . K B N R\n"
     ]
    }
   ],
   "source": [
    "masked_board_state = get_masked_board_state(fog_of_war_board, chess.BLACK)\n",
    "print(masked_board_state)"
   ],
   "metadata": {
    "collapsed": false
   }
  },
  {
   "cell_type": "code",
   "execution_count": 22,
   "outputs": [
    {
     "name": "stdout",
     "output_type": "stream",
     "text": [
      ". . . . . . . .\n",
      ". . . . . . . .\n",
      ". . . . . . . .\n",
      ". . . . p . . .\n",
      ". . . . P P . .\n",
      ". . . . . . . .\n",
      "P P P P . K P P\n",
      "R N B Q . B N R\n"
     ]
    }
   ],
   "source": [
    "masked_board_state = get_masked_board_state(fog_of_war_board, chess.WHITE)\n",
    "print(masked_board_state)"
   ],
   "metadata": {
    "collapsed": false
   }
  },
  {
   "cell_type": "code",
   "execution_count": 23,
   "outputs": [
    {
     "data": {
      "text/plain": "(12, 8, 8)"
     },
     "execution_count": 23,
     "metadata": {},
     "output_type": "execute_result"
    }
   ],
   "source": [
    "planes = board_to_planes(fog_of_war_board)\n",
    "planes.shape"
   ],
   "metadata": {
    "collapsed": false
   }
  },
  {
   "cell_type": "code",
   "execution_count": 187,
   "outputs": [
    {
     "data": {
      "text/plain": "array([[[0, 0, 0, 0, 0, 0, 0, 0],\n        [1, 1, 1, 1, 0, 0, 1, 1],\n        [0, 0, 0, 0, 0, 0, 0, 0],\n        [0, 0, 0, 0, 1, 1, 0, 0],\n        [0, 0, 0, 0, 0, 0, 0, 0],\n        [0, 0, 0, 0, 0, 0, 0, 0],\n        [0, 0, 0, 0, 0, 0, 0, 0],\n        [0, 0, 0, 0, 0, 0, 0, 0]],\n\n       [[0, 1, 0, 0, 0, 0, 1, 0],\n        [0, 0, 0, 0, 0, 0, 0, 0],\n        [0, 0, 0, 0, 0, 0, 0, 0],\n        [0, 0, 0, 0, 0, 0, 0, 0],\n        [0, 0, 0, 0, 0, 0, 0, 0],\n        [0, 0, 0, 0, 0, 0, 0, 0],\n        [0, 0, 0, 0, 0, 0, 0, 0],\n        [0, 0, 0, 0, 0, 0, 0, 0]],\n\n       [[0, 0, 1, 0, 0, 1, 0, 0],\n        [0, 0, 0, 0, 0, 0, 0, 0],\n        [0, 0, 0, 0, 0, 0, 0, 0],\n        [0, 0, 0, 0, 0, 0, 0, 0],\n        [0, 0, 0, 0, 0, 0, 0, 0],\n        [0, 0, 0, 0, 0, 0, 0, 0],\n        [0, 0, 0, 0, 0, 0, 0, 0],\n        [0, 0, 0, 0, 0, 0, 0, 0]],\n\n       [[1, 0, 0, 0, 0, 0, 0, 1],\n        [0, 0, 0, 0, 0, 0, 0, 0],\n        [0, 0, 0, 0, 0, 0, 0, 0],\n        [0, 0, 0, 0, 0, 0, 0, 0],\n        [0, 0, 0, 0, 0, 0, 0, 0],\n        [0, 0, 0, 0, 0, 0, 0, 0],\n        [0, 0, 0, 0, 0, 0, 0, 0],\n        [0, 0, 0, 0, 0, 0, 0, 0]],\n\n       [[0, 0, 0, 1, 0, 0, 0, 0],\n        [0, 0, 0, 0, 0, 0, 0, 0],\n        [0, 0, 0, 0, 0, 0, 0, 0],\n        [0, 0, 0, 0, 0, 0, 0, 0],\n        [0, 0, 0, 0, 0, 0, 0, 0],\n        [0, 0, 0, 0, 0, 0, 0, 0],\n        [0, 0, 0, 0, 0, 0, 0, 0],\n        [0, 0, 0, 0, 0, 0, 0, 0]],\n\n       [[0, 0, 0, 0, 0, 0, 0, 0],\n        [0, 0, 0, 0, 0, 1, 0, 0],\n        [0, 0, 0, 0, 0, 0, 0, 0],\n        [0, 0, 0, 0, 0, 0, 0, 0],\n        [0, 0, 0, 0, 0, 0, 0, 0],\n        [0, 0, 0, 0, 0, 0, 0, 0],\n        [0, 0, 0, 0, 0, 0, 0, 0],\n        [0, 0, 0, 0, 0, 0, 0, 0]],\n\n       [[0, 0, 0, 0, 0, 0, 0, 0],\n        [0, 0, 0, 0, 0, 0, 0, 0],\n        [0, 0, 0, 0, 0, 0, 0, 0],\n        [0, 0, 0, 0, 0, 0, 0, 0],\n        [0, 0, 0, 0, 1, 0, 0, 0],\n        [0, 0, 0, 0, 0, 0, 0, 0],\n        [1, 1, 1, 1, 0, 1, 1, 1],\n        [0, 0, 0, 0, 0, 0, 0, 0]],\n\n       [[0, 0, 0, 0, 0, 0, 0, 0],\n        [0, 0, 0, 0, 0, 0, 0, 0],\n        [0, 0, 0, 0, 0, 0, 0, 0],\n        [0, 0, 0, 0, 0, 0, 0, 0],\n        [0, 0, 0, 0, 0, 0, 0, 0],\n        [0, 0, 0, 0, 0, 0, 0, 0],\n        [0, 0, 0, 0, 0, 0, 0, 0],\n        [0, 1, 0, 0, 0, 0, 1, 0]],\n\n       [[0, 0, 0, 0, 0, 0, 0, 0],\n        [0, 0, 0, 0, 0, 0, 0, 0],\n        [0, 0, 0, 0, 0, 0, 0, 0],\n        [0, 0, 0, 0, 0, 0, 0, 0],\n        [0, 0, 0, 0, 0, 0, 0, 0],\n        [0, 0, 0, 0, 0, 0, 0, 0],\n        [0, 0, 0, 0, 0, 0, 0, 0],\n        [0, 0, 1, 0, 0, 1, 0, 0]],\n\n       [[0, 0, 0, 0, 0, 0, 0, 0],\n        [0, 0, 0, 0, 0, 0, 0, 0],\n        [0, 0, 0, 0, 0, 0, 0, 0],\n        [0, 0, 0, 0, 0, 0, 0, 0],\n        [0, 0, 0, 0, 0, 0, 0, 0],\n        [0, 0, 0, 0, 0, 0, 0, 0],\n        [0, 0, 0, 0, 0, 0, 0, 0],\n        [1, 0, 0, 0, 0, 0, 0, 1]],\n\n       [[0, 0, 0, 0, 0, 0, 0, 0],\n        [0, 0, 0, 0, 0, 0, 0, 0],\n        [0, 0, 0, 0, 0, 0, 0, 0],\n        [0, 0, 0, 0, 0, 0, 0, 1],\n        [0, 0, 0, 0, 0, 0, 0, 0],\n        [0, 0, 0, 0, 0, 0, 0, 0],\n        [0, 0, 0, 0, 0, 0, 0, 0],\n        [0, 0, 0, 0, 0, 0, 0, 0]],\n\n       [[0, 0, 0, 0, 0, 0, 0, 0],\n        [0, 0, 0, 0, 0, 0, 0, 0],\n        [0, 0, 0, 0, 0, 0, 0, 0],\n        [0, 0, 0, 0, 0, 0, 0, 0],\n        [0, 0, 0, 0, 0, 0, 0, 0],\n        [0, 0, 0, 0, 0, 0, 0, 0],\n        [0, 0, 0, 0, 0, 0, 0, 0],\n        [0, 0, 0, 0, 1, 0, 0, 0]]], dtype=uint8)"
     },
     "execution_count": 187,
     "metadata": {},
     "output_type": "execute_result"
    }
   ],
   "source": [
    "planes"
   ],
   "metadata": {
    "collapsed": false
   }
  },
  {
   "cell_type": "code",
   "execution_count": 190,
   "outputs": [
    {
     "data": {
      "text/plain": "array([[[0.   , 0.   , 0.   , 0.   , 0.   , 0.   , 0.   , 0.   ],\n        [0.125, 0.125, 0.125, 0.125, 0.   , 0.   , 0.125, 0.125],\n        [0.   , 0.   , 0.   , 0.   , 0.   , 0.   , 0.   , 0.   ],\n        [0.   , 0.   , 0.   , 0.   , 0.125, 0.125, 0.   , 0.   ],\n        [0.   , 0.   , 0.   , 0.   , 0.   , 0.   , 0.   , 0.   ],\n        [0.   , 0.   , 0.   , 0.   , 0.   , 0.   , 0.   , 0.   ],\n        [0.   , 0.   , 0.   , 0.   , 0.   , 0.   , 0.   , 0.   ],\n        [0.   , 0.   , 0.   , 0.   , 0.   , 0.   , 0.   , 0.   ]],\n\n       [[0.   , 0.5  , 0.   , 0.   , 0.   , 0.   , 0.5  , 0.   ],\n        [0.   , 0.   , 0.   , 0.   , 0.   , 0.   , 0.   , 0.   ],\n        [0.   , 0.   , 0.   , 0.   , 0.   , 0.   , 0.   , 0.   ],\n        [0.   , 0.   , 0.   , 0.   , 0.   , 0.   , 0.   , 0.   ],\n        [0.   , 0.   , 0.   , 0.   , 0.   , 0.   , 0.   , 0.   ],\n        [0.   , 0.   , 0.   , 0.   , 0.   , 0.   , 0.   , 0.   ],\n        [0.   , 0.   , 0.   , 0.   , 0.   , 0.   , 0.   , 0.   ],\n        [0.   , 0.   , 0.   , 0.   , 0.   , 0.   , 0.   , 0.   ]],\n\n       [[0.   , 0.   , 0.5  , 0.   , 0.   , 0.5  , 0.   , 0.   ],\n        [0.   , 0.   , 0.   , 0.   , 0.   , 0.   , 0.   , 0.   ],\n        [0.   , 0.   , 0.   , 0.   , 0.   , 0.   , 0.   , 0.   ],\n        [0.   , 0.   , 0.   , 0.   , 0.   , 0.   , 0.   , 0.   ],\n        [0.   , 0.   , 0.   , 0.   , 0.   , 0.   , 0.   , 0.   ],\n        [0.   , 0.   , 0.   , 0.   , 0.   , 0.   , 0.   , 0.   ],\n        [0.   , 0.   , 0.   , 0.   , 0.   , 0.   , 0.   , 0.   ],\n        [0.   , 0.   , 0.   , 0.   , 0.   , 0.   , 0.   , 0.   ]],\n\n       [[0.5  , 0.   , 0.   , 0.   , 0.   , 0.   , 0.   , 0.5  ],\n        [0.   , 0.   , 0.   , 0.   , 0.   , 0.   , 0.   , 0.   ],\n        [0.   , 0.   , 0.   , 0.   , 0.   , 0.   , 0.   , 0.   ],\n        [0.   , 0.   , 0.   , 0.   , 0.   , 0.   , 0.   , 0.   ],\n        [0.   , 0.   , 0.   , 0.   , 0.   , 0.   , 0.   , 0.   ],\n        [0.   , 0.   , 0.   , 0.   , 0.   , 0.   , 0.   , 0.   ],\n        [0.   , 0.   , 0.   , 0.   , 0.   , 0.   , 0.   , 0.   ],\n        [0.   , 0.   , 0.   , 0.   , 0.   , 0.   , 0.   , 0.   ]],\n\n       [[0.   , 0.   , 0.   , 1.   , 0.   , 0.   , 0.   , 0.   ],\n        [0.   , 0.   , 0.   , 0.   , 0.   , 0.   , 0.   , 0.   ],\n        [0.   , 0.   , 0.   , 0.   , 0.   , 0.   , 0.   , 0.   ],\n        [0.   , 0.   , 0.   , 0.   , 0.   , 0.   , 0.   , 0.   ],\n        [0.   , 0.   , 0.   , 0.   , 0.   , 0.   , 0.   , 0.   ],\n        [0.   , 0.   , 0.   , 0.   , 0.   , 0.   , 0.   , 0.   ],\n        [0.   , 0.   , 0.   , 0.   , 0.   , 0.   , 0.   , 0.   ],\n        [0.   , 0.   , 0.   , 0.   , 0.   , 0.   , 0.   , 0.   ]],\n\n       [[0.   , 0.   , 0.   , 0.   , 0.   , 0.   , 0.   , 0.   ],\n        [0.   , 0.   , 0.   , 0.   , 0.   , 1.   , 0.   , 0.   ],\n        [0.   , 0.   , 0.   , 0.   , 0.   , 0.   , 0.   , 0.   ],\n        [0.   , 0.   , 0.   , 0.   , 0.   , 0.   , 0.   , 0.   ],\n        [0.   , 0.   , 0.   , 0.   , 0.   , 0.   , 0.   , 0.   ],\n        [0.   , 0.   , 0.   , 0.   , 0.   , 0.   , 0.   , 0.   ],\n        [0.   , 0.   , 0.   , 0.   , 0.   , 0.   , 0.   , 0.   ],\n        [0.   , 0.   , 0.   , 0.   , 0.   , 0.   , 0.   , 0.   ]],\n\n       [[0.   , 0.   , 0.   , 0.   , 0.   , 0.   , 0.   , 0.   ],\n        [0.   , 0.   , 0.   , 0.   , 0.   , 0.   , 0.   , 0.   ],\n        [0.   , 0.   , 0.   , 0.   , 0.   , 0.   , 0.   , 0.   ],\n        [0.   , 0.   , 0.   , 0.   , 0.   , 0.   , 0.   , 0.   ],\n        [0.   , 0.   , 0.   , 0.   , 0.125, 0.   , 0.   , 0.   ],\n        [0.   , 0.   , 0.   , 0.   , 0.   , 0.   , 0.   , 0.   ],\n        [0.125, 0.125, 0.125, 0.125, 0.   , 0.125, 0.125, 0.125],\n        [0.   , 0.   , 0.   , 0.   , 0.   , 0.   , 0.   , 0.   ]],\n\n       [[0.   , 0.   , 0.   , 0.   , 0.   , 0.   , 0.   , 0.   ],\n        [0.   , 0.   , 0.   , 0.   , 0.   , 0.   , 0.   , 0.   ],\n        [0.   , 0.   , 0.   , 0.   , 0.   , 0.   , 0.   , 0.   ],\n        [0.   , 0.   , 0.   , 0.   , 0.   , 0.   , 0.   , 0.   ],\n        [0.   , 0.   , 0.   , 0.   , 0.   , 0.   , 0.   , 0.   ],\n        [0.   , 0.   , 0.   , 0.   , 0.   , 0.   , 0.   , 0.   ],\n        [0.   , 0.   , 0.   , 0.   , 0.   , 0.   , 0.   , 0.   ],\n        [0.   , 0.5  , 0.   , 0.   , 0.   , 0.   , 0.5  , 0.   ]],\n\n       [[0.   , 0.   , 0.   , 0.   , 0.   , 0.   , 0.   , 0.   ],\n        [0.   , 0.   , 0.   , 0.   , 0.   , 0.   , 0.   , 0.   ],\n        [0.   , 0.   , 0.   , 0.   , 0.   , 0.   , 0.   , 0.   ],\n        [0.   , 0.   , 0.   , 0.   , 0.   , 0.   , 0.   , 0.   ],\n        [0.   , 0.   , 0.   , 0.   , 0.   , 0.   , 0.   , 0.   ],\n        [0.   , 0.   , 0.   , 0.   , 0.   , 0.   , 0.   , 0.   ],\n        [0.   , 0.   , 0.   , 0.   , 0.   , 0.   , 0.   , 0.   ],\n        [0.   , 0.   , 0.5  , 0.   , 0.   , 0.5  , 0.   , 0.   ]],\n\n       [[0.   , 0.   , 0.   , 0.   , 0.   , 0.   , 0.   , 0.   ],\n        [0.   , 0.   , 0.   , 0.   , 0.   , 0.   , 0.   , 0.   ],\n        [0.   , 0.   , 0.   , 0.   , 0.   , 0.   , 0.   , 0.   ],\n        [0.   , 0.   , 0.   , 0.   , 0.   , 0.   , 0.   , 0.   ],\n        [0.   , 0.   , 0.   , 0.   , 0.   , 0.   , 0.   , 0.   ],\n        [0.   , 0.   , 0.   , 0.   , 0.   , 0.   , 0.   , 0.   ],\n        [0.   , 0.   , 0.   , 0.   , 0.   , 0.   , 0.   , 0.   ],\n        [0.5  , 0.   , 0.   , 0.   , 0.   , 0.   , 0.   , 0.5  ]],\n\n       [[0.   , 0.   , 0.   , 0.   , 0.   , 0.   , 0.   , 0.   ],\n        [0.   , 0.   , 0.   , 0.   , 0.   , 0.   , 0.   , 0.   ],\n        [0.   , 0.   , 0.   , 0.   , 0.   , 0.   , 0.   , 0.   ],\n        [0.   , 0.   , 0.   , 0.   , 0.   , 0.   , 0.   , 1.   ],\n        [0.   , 0.   , 0.   , 0.   , 0.   , 0.   , 0.   , 0.   ],\n        [0.   , 0.   , 0.   , 0.   , 0.   , 0.   , 0.   , 0.   ],\n        [0.   , 0.   , 0.   , 0.   , 0.   , 0.   , 0.   , 0.   ],\n        [0.   , 0.   , 0.   , 0.   , 0.   , 0.   , 0.   , 0.   ]],\n\n       [[0.   , 0.   , 0.   , 0.   , 0.   , 0.   , 0.   , 0.   ],\n        [0.   , 0.   , 0.   , 0.   , 0.   , 0.   , 0.   , 0.   ],\n        [0.   , 0.   , 0.   , 0.   , 0.   , 0.   , 0.   , 0.   ],\n        [0.   , 0.   , 0.   , 0.   , 0.   , 0.   , 0.   , 0.   ],\n        [0.   , 0.   , 0.   , 0.   , 0.   , 0.   , 0.   , 0.   ],\n        [0.   , 0.   , 0.   , 0.   , 0.   , 0.   , 0.   , 0.   ],\n        [0.   , 0.   , 0.   , 0.   , 0.   , 0.   , 0.   , 0.   ],\n        [0.   , 0.   , 0.   , 0.   , 1.   , 0.   , 0.   , 0.   ]]])"
     },
     "execution_count": 190,
     "metadata": {},
     "output_type": "execute_result"
    }
   ],
   "source": [
    "planes / planes.sum(axis=(1, 2), keepdims=True)"
   ],
   "metadata": {
    "collapsed": false
   }
  },
  {
   "cell_type": "markdown",
   "source": [
    "Great, now onto the training function for the RL model. I think the RL model should learn based on the eventual terminal state of a game it played (if result == win: all played moves are good, elif result ==  loss: all played moves are bad, elif result == draw: all played moves are slightly bad). Does this seem like a good approach? If so, how would you go about implementing it in our current framework? Is there anything else I need to consider?"
   ],
   "metadata": {
    "collapsed": false
   }
  },
  {
   "cell_type": "code",
   "execution_count": null,
   "outputs": [],
   "source": [],
   "metadata": {
    "collapsed": false
   }
  },
  {
   "cell_type": "code",
   "execution_count": 32,
   "outputs": [],
   "source": [
    "def test_action_to_move():\n",
    "    action = 1023\n",
    "    move = action_to_move(action)\n",
    "    assert move.from_square == 63\n",
    "    assert move.to_square == 15\n",
    "\n",
    "    action = 2112\n",
    "    move = action_to_move(action)\n",
    "    assert move.from_square == 0\n",
    "    assert move.to_square == 33\n",
    "\n",
    "def test_move_to_action():\n",
    "    move = chess.Move(63, 15)\n",
    "    action = move_to_action(move)\n",
    "    assert action == 1023\n",
    "\n",
    "    move = chess.Move(0, 33)\n",
    "    action = move_to_action(move)\n",
    "    assert action == 2112\n",
    "\n",
    "def test_push_action():\n",
    "    board = FogOfWarChessBoard()\n",
    "    action = move_to_action(chess.Move.from_uci('e2e4'))\n",
    "    board.push_action(action)\n",
    "    assert board.peek().uci() == \"e2e4\"\n",
    "\n",
    "def test_mask_action_vector():\n",
    "    board = FogOfWarChessBoard()\n",
    "    action_vector = [1.0] * 4096\n",
    "    mask = mask_action_vector(board)\n",
    "    masked_vector = np.multiply(action_vector, mask)\n",
    "\n",
    "    for action in range(4096):\n",
    "        move = action_to_move(action)\n",
    "        if move in board.pseudo_legal_moves:\n",
    "            assert masked_vector[action] == 1.0\n",
    "        else:\n",
    "            assert masked_vector[action] == 0.0"
   ],
   "metadata": {
    "collapsed": false
   }
  },
  {
   "cell_type": "code",
   "execution_count": 33,
   "outputs": [],
   "source": [
    "test_action_to_move()"
   ],
   "metadata": {
    "collapsed": false
   }
  },
  {
   "cell_type": "code",
   "execution_count": 34,
   "outputs": [],
   "source": [
    "test_move_to_action()"
   ],
   "metadata": {
    "collapsed": false
   }
  },
  {
   "cell_type": "code",
   "execution_count": 35,
   "outputs": [],
   "source": [
    "test_push_action()"
   ],
   "metadata": {
    "collapsed": false
   }
  },
  {
   "cell_type": "code",
   "execution_count": 36,
   "outputs": [],
   "source": [
    "test_mask_action_vector()"
   ],
   "metadata": {
    "collapsed": false
   }
  },
  {
   "cell_type": "code",
   "execution_count": 40,
   "outputs": [],
   "source": [
    "def test_train_models():\n",
    "    board = FogOfWarChessBoard()\n",
    "    board.push_san(\"e4\")\n",
    "    board.push_san(\"e5\")\n",
    "    board.push_san(\"Nf3\")\n",
    "    board.push_san(\"Nc6\")\n",
    "    board.push_san(\"Bb5\")\n",
    "\n",
    "    # Initialize models\n",
    "    prob_model = ProbabilityNN().to('cuda')\n",
    "    rl_model = RLModel().to('cuda')\n",
    "\n",
    "    # initialize sample optimizers\n",
    "    rl_optim = torch.optim.Adam(rl_model.parameters(), lr=0.001)\n",
    "    prob_optim = torch.optim.Adam(prob_model.parameters(), lr=0.001)\n",
    "\n",
    "    # Store initial weights\n",
    "    prob_weights_init = [w.clone() for w in prob_model.parameters()]\n",
    "    rl_weights_init = [w.clone() for w in rl_model.parameters()]\n",
    "\n",
    "    # Call the train_models function\n",
    "    avg_rl_loss, avg_prob_loss = train_models(board, rl_model, rl_optim, prob_model, prob_optim)\n",
    "\n",
    "    # Check if the weights have been updated\n",
    "    for init_w, updated_w in zip(prob_weights_init, prob_model.parameters()):\n",
    "        assert not torch.all(torch.eq(init_w, updated_w))\n",
    "\n",
    "    for init_w, updated_w in zip(rl_weights_init, rl_model.parameters()):\n",
    "        assert not torch.all(torch.eq(init_w, updated_w))\n",
    "\n",
    "    print(f\"Training function test passed. RL loss: {avg_rl_loss}, Prob loss: {avg_prob_loss}\")"
   ],
   "metadata": {
    "collapsed": false
   }
  },
  {
   "cell_type": "code",
   "execution_count": 41,
   "outputs": [
    {
     "name": "stdout",
     "output_type": "stream",
     "text": [
      "Training function test passed. RL loss: 2.55456907004118, Prob loss: 0.791860818862915\n"
     ]
    }
   ],
   "source": [
    "test_train_models()"
   ],
   "metadata": {
    "collapsed": false
   }
  },
  {
   "cell_type": "code",
   "execution_count": 26,
   "outputs": [
    {
     "data": {
      "text/plain": "True"
     },
     "execution_count": 26,
     "metadata": {},
     "output_type": "execute_result"
    }
   ],
   "source": [
    "torch.cuda.is_available()"
   ],
   "metadata": {
    "collapsed": false
   }
  },
  {
   "cell_type": "code",
   "execution_count": 27,
   "outputs": [
    {
     "data": {
      "text/plain": "'NVIDIA GeForce RTX 3060 Ti'"
     },
     "execution_count": 27,
     "metadata": {},
     "output_type": "execute_result"
    }
   ],
   "source": [
    "torch.cuda.get_device_name(0)"
   ],
   "metadata": {
    "collapsed": false
   }
  },
  {
   "cell_type": "code",
   "execution_count": 74,
   "outputs": [],
   "source": [
    "test_board = FogOfWarChessBoard()\n",
    "prob_model = ProbabilityNN().to('cuda')\n",
    "rl_model = RLModel().to('cuda')"
   ],
   "metadata": {
    "collapsed": false
   }
  },
  {
   "cell_type": "code",
   "execution_count": 84,
   "outputs": [
    {
     "name": "stdout",
     "output_type": "stream",
     "text": [
      "(27,)\n"
     ]
    },
    {
     "data": {
      "text/plain": "Move.from_uci('g8h6')"
     },
     "execution_count": 84,
     "metadata": {},
     "output_type": "execute_result"
    }
   ],
   "source": [
    "move = choose_best_move(prob_model, rl_model, test_board)\n",
    "move"
   ],
   "metadata": {
    "collapsed": false
   }
  },
  {
   "cell_type": "code",
   "execution_count": 85,
   "outputs": [],
   "source": [
    "test_board.push(move)"
   ],
   "metadata": {
    "collapsed": false
   }
  },
  {
   "cell_type": "code",
   "execution_count": 86,
   "outputs": [
    {
     "data": {
      "text/plain": "FogOfWarChessBoard('rnbqkb1r/ppp1pppp/3p3n/8/8/6PN/PPPPPP1P/RNBQKB1R w KQkq - 2 3')",
      "image/svg+xml": "<svg xmlns=\"http://www.w3.org/2000/svg\" xmlns:xlink=\"http://www.w3.org/1999/xlink\" version=\"1.2\" baseProfile=\"tiny\" viewBox=\"0 0 390 390\" width=\"390\" height=\"390\"><desc><pre>r n b q k b . r\np p p . p p p p\n. . . p . . . n\n. . . . . . . .\n. . . . . . . .\n. . . . . . P N\nP P P P P P . P\nR N B Q K B . R</pre></desc><defs><g id=\"white-pawn\" class=\"white pawn\"><path d=\"M22.5 9c-2.21 0-4 1.79-4 4 0 .89.29 1.71.78 2.38C17.33 16.5 16 18.59 16 21c0 2.03.94 3.84 2.41 5.03-3 1.06-7.41 5.55-7.41 13.47h23c0-7.92-4.41-12.41-7.41-13.47 1.47-1.19 2.41-3 2.41-5.03 0-2.41-1.33-4.5-3.28-5.62.49-.67.78-1.49.78-2.38 0-2.21-1.79-4-4-4z\" fill=\"#fff\" stroke=\"#000\" stroke-width=\"1.5\" stroke-linecap=\"round\" /></g><g id=\"white-knight\" class=\"white knight\" fill=\"none\" fill-rule=\"evenodd\" stroke=\"#000\" stroke-width=\"1.5\" stroke-linecap=\"round\" stroke-linejoin=\"round\"><path d=\"M 22,10 C 32.5,11 38.5,18 38,39 L 15,39 C 15,30 25,32.5 23,18\" style=\"fill:#ffffff; stroke:#000000;\" /><path d=\"M 24,18 C 24.38,20.91 18.45,25.37 16,27 C 13,29 13.18,31.34 11,31 C 9.958,30.06 12.41,27.96 11,28 C 10,28 11.19,29.23 10,30 C 9,30 5.997,31 6,26 C 6,24 12,14 12,14 C 12,14 13.89,12.1 14,10.5 C 13.27,9.506 13.5,8.5 13.5,7.5 C 14.5,6.5 16.5,10 16.5,10 L 18.5,10 C 18.5,10 19.28,8.008 21,7 C 22,7 22,10 22,10\" style=\"fill:#ffffff; stroke:#000000;\" /><path d=\"M 9.5 25.5 A 0.5 0.5 0 1 1 8.5,25.5 A 0.5 0.5 0 1 1 9.5 25.5 z\" style=\"fill:#000000; stroke:#000000;\" /><path d=\"M 15 15.5 A 0.5 1.5 0 1 1 14,15.5 A 0.5 1.5 0 1 1 15 15.5 z\" transform=\"matrix(0.866,0.5,-0.5,0.866,9.693,-5.173)\" style=\"fill:#000000; stroke:#000000;\" /></g><g id=\"white-bishop\" class=\"white bishop\" fill=\"none\" fill-rule=\"evenodd\" stroke=\"#000\" stroke-width=\"1.5\" stroke-linecap=\"round\" stroke-linejoin=\"round\"><g fill=\"#fff\" stroke-linecap=\"butt\"><path d=\"M9 36c3.39-.97 10.11.43 13.5-2 3.39 2.43 10.11 1.03 13.5 2 0 0 1.65.54 3 2-.68.97-1.65.99-3 .5-3.39-.97-10.11.46-13.5-1-3.39 1.46-10.11.03-13.5 1-1.354.49-2.323.47-3-.5 1.354-1.94 3-2 3-2zM15 32c2.5 2.5 12.5 2.5 15 0 .5-1.5 0-2 0-2 0-2.5-2.5-4-2.5-4 5.5-1.5 6-11.5-5-15.5-11 4-10.5 14-5 15.5 0 0-2.5 1.5-2.5 4 0 0-.5.5 0 2zM25 8a2.5 2.5 0 1 1-5 0 2.5 2.5 0 1 1 5 0z\" /></g><path d=\"M17.5 26h10M15 30h15m-7.5-14.5v5M20 18h5\" stroke-linejoin=\"miter\" /></g><g id=\"white-rook\" class=\"white rook\" fill=\"#fff\" fill-rule=\"evenodd\" stroke=\"#000\" stroke-width=\"1.5\" stroke-linecap=\"round\" stroke-linejoin=\"round\"><path d=\"M9 39h27v-3H9v3zM12 36v-4h21v4H12zM11 14V9h4v2h5V9h5v2h5V9h4v5\" stroke-linecap=\"butt\" /><path d=\"M34 14l-3 3H14l-3-3\" /><path d=\"M31 17v12.5H14V17\" stroke-linecap=\"butt\" stroke-linejoin=\"miter\" /><path d=\"M31 29.5l1.5 2.5h-20l1.5-2.5\" /><path d=\"M11 14h23\" fill=\"none\" stroke-linejoin=\"miter\" /></g><g id=\"white-queen\" class=\"white queen\" fill=\"#fff\" fill-rule=\"evenodd\" stroke=\"#000\" stroke-width=\"1.5\" stroke-linecap=\"round\" stroke-linejoin=\"round\"><path d=\"M8 12a2 2 0 1 1-4 0 2 2 0 1 1 4 0zM24.5 7.5a2 2 0 1 1-4 0 2 2 0 1 1 4 0zM41 12a2 2 0 1 1-4 0 2 2 0 1 1 4 0zM16 8.5a2 2 0 1 1-4 0 2 2 0 1 1 4 0zM33 9a2 2 0 1 1-4 0 2 2 0 1 1 4 0z\" /><path d=\"M9 26c8.5-1.5 21-1.5 27 0l2-12-7 11V11l-5.5 13.5-3-15-3 15-5.5-14V25L7 14l2 12zM9 26c0 2 1.5 2 2.5 4 1 1.5 1 1 .5 3.5-1.5 1-1.5 2.5-1.5 2.5-1.5 1.5.5 2.5.5 2.5 6.5 1 16.5 1 23 0 0 0 1.5-1 0-2.5 0 0 .5-1.5-1-2.5-.5-2.5-.5-2 .5-3.5 1-2 2.5-2 2.5-4-8.5-1.5-18.5-1.5-27 0z\" stroke-linecap=\"butt\" /><path d=\"M11.5 30c3.5-1 18.5-1 22 0M12 33.5c6-1 15-1 21 0\" fill=\"none\" /></g><g id=\"white-king\" class=\"white king\" fill=\"none\" fill-rule=\"evenodd\" stroke=\"#000\" stroke-width=\"1.5\" stroke-linecap=\"round\" stroke-linejoin=\"round\"><path d=\"M22.5 11.63V6M20 8h5\" stroke-linejoin=\"miter\" /><path d=\"M22.5 25s4.5-7.5 3-10.5c0 0-1-2.5-3-2.5s-3 2.5-3 2.5c-1.5 3 3 10.5 3 10.5\" fill=\"#fff\" stroke-linecap=\"butt\" stroke-linejoin=\"miter\" /><path d=\"M11.5 37c5.5 3.5 15.5 3.5 21 0v-7s9-4.5 6-10.5c-4-6.5-13.5-3.5-16 4V27v-3.5c-3.5-7.5-13-10.5-16-4-3 6 5 10 5 10V37z\" fill=\"#fff\" /><path d=\"M11.5 30c5.5-3 15.5-3 21 0m-21 3.5c5.5-3 15.5-3 21 0m-21 3.5c5.5-3 15.5-3 21 0\" /></g><g id=\"black-pawn\" class=\"black pawn\"><path d=\"M22.5 9c-2.21 0-4 1.79-4 4 0 .89.29 1.71.78 2.38C17.33 16.5 16 18.59 16 21c0 2.03.94 3.84 2.41 5.03-3 1.06-7.41 5.55-7.41 13.47h23c0-7.92-4.41-12.41-7.41-13.47 1.47-1.19 2.41-3 2.41-5.03 0-2.41-1.33-4.5-3.28-5.62.49-.67.78-1.49.78-2.38 0-2.21-1.79-4-4-4z\" fill=\"#000\" stroke=\"#000\" stroke-width=\"1.5\" stroke-linecap=\"round\" /></g><g id=\"black-knight\" class=\"black knight\" fill=\"none\" fill-rule=\"evenodd\" stroke=\"#000\" stroke-width=\"1.5\" stroke-linecap=\"round\" stroke-linejoin=\"round\"><path d=\"M 22,10 C 32.5,11 38.5,18 38,39 L 15,39 C 15,30 25,32.5 23,18\" style=\"fill:#000000; stroke:#000000;\" /><path d=\"M 24,18 C 24.38,20.91 18.45,25.37 16,27 C 13,29 13.18,31.34 11,31 C 9.958,30.06 12.41,27.96 11,28 C 10,28 11.19,29.23 10,30 C 9,30 5.997,31 6,26 C 6,24 12,14 12,14 C 12,14 13.89,12.1 14,10.5 C 13.27,9.506 13.5,8.5 13.5,7.5 C 14.5,6.5 16.5,10 16.5,10 L 18.5,10 C 18.5,10 19.28,8.008 21,7 C 22,7 22,10 22,10\" style=\"fill:#000000; stroke:#000000;\" /><path d=\"M 9.5 25.5 A 0.5 0.5 0 1 1 8.5,25.5 A 0.5 0.5 0 1 1 9.5 25.5 z\" style=\"fill:#ececec; stroke:#ececec;\" /><path d=\"M 15 15.5 A 0.5 1.5 0 1 1 14,15.5 A 0.5 1.5 0 1 1 15 15.5 z\" transform=\"matrix(0.866,0.5,-0.5,0.866,9.693,-5.173)\" style=\"fill:#ececec; stroke:#ececec;\" /><path d=\"M 24.55,10.4 L 24.1,11.85 L 24.6,12 C 27.75,13 30.25,14.49 32.5,18.75 C 34.75,23.01 35.75,29.06 35.25,39 L 35.2,39.5 L 37.45,39.5 L 37.5,39 C 38,28.94 36.62,22.15 34.25,17.66 C 31.88,13.17 28.46,11.02 25.06,10.5 L 24.55,10.4 z \" style=\"fill:#ececec; stroke:none;\" /></g><g id=\"black-bishop\" class=\"black bishop\" fill=\"none\" fill-rule=\"evenodd\" stroke=\"#000\" stroke-width=\"1.5\" stroke-linecap=\"round\" stroke-linejoin=\"round\"><path d=\"M9 36c3.39-.97 10.11.43 13.5-2 3.39 2.43 10.11 1.03 13.5 2 0 0 1.65.54 3 2-.68.97-1.65.99-3 .5-3.39-.97-10.11.46-13.5-1-3.39 1.46-10.11.03-13.5 1-1.354.49-2.323.47-3-.5 1.354-1.94 3-2 3-2zm6-4c2.5 2.5 12.5 2.5 15 0 .5-1.5 0-2 0-2 0-2.5-2.5-4-2.5-4 5.5-1.5 6-11.5-5-15.5-11 4-10.5 14-5 15.5 0 0-2.5 1.5-2.5 4 0 0-.5.5 0 2zM25 8a2.5 2.5 0 1 1-5 0 2.5 2.5 0 1 1 5 0z\" fill=\"#000\" stroke-linecap=\"butt\" /><path d=\"M17.5 26h10M15 30h15m-7.5-14.5v5M20 18h5\" stroke=\"#fff\" stroke-linejoin=\"miter\" /></g><g id=\"black-rook\" class=\"black rook\" fill=\"#000\" fill-rule=\"evenodd\" stroke=\"#000\" stroke-width=\"1.5\" stroke-linecap=\"round\" stroke-linejoin=\"round\"><path d=\"M9 39h27v-3H9v3zM12.5 32l1.5-2.5h17l1.5 2.5h-20zM12 36v-4h21v4H12z\" stroke-linecap=\"butt\" /><path d=\"M14 29.5v-13h17v13H14z\" stroke-linecap=\"butt\" stroke-linejoin=\"miter\" /><path d=\"M14 16.5L11 14h23l-3 2.5H14zM11 14V9h4v2h5V9h5v2h5V9h4v5H11z\" stroke-linecap=\"butt\" /><path d=\"M12 35.5h21M13 31.5h19M14 29.5h17M14 16.5h17M11 14h23\" fill=\"none\" stroke=\"#fff\" stroke-width=\"1\" stroke-linejoin=\"miter\" /></g><g id=\"black-queen\" class=\"black queen\" fill=\"#000\" fill-rule=\"evenodd\" stroke=\"#000\" stroke-width=\"1.5\" stroke-linecap=\"round\" stroke-linejoin=\"round\"><g fill=\"#000\" stroke=\"none\"><circle cx=\"6\" cy=\"12\" r=\"2.75\" /><circle cx=\"14\" cy=\"9\" r=\"2.75\" /><circle cx=\"22.5\" cy=\"8\" r=\"2.75\" /><circle cx=\"31\" cy=\"9\" r=\"2.75\" /><circle cx=\"39\" cy=\"12\" r=\"2.75\" /></g><path d=\"M9 26c8.5-1.5 21-1.5 27 0l2.5-12.5L31 25l-.3-14.1-5.2 13.6-3-14.5-3 14.5-5.2-13.6L14 25 6.5 13.5 9 26zM9 26c0 2 1.5 2 2.5 4 1 1.5 1 1 .5 3.5-1.5 1-1.5 2.5-1.5 2.5-1.5 1.5.5 2.5.5 2.5 6.5 1 16.5 1 23 0 0 0 1.5-1 0-2.5 0 0 .5-1.5-1-2.5-.5-2.5-.5-2 .5-3.5 1-2 2.5-2 2.5-4-8.5-1.5-18.5-1.5-27 0z\" stroke-linecap=\"butt\" /><path d=\"M11 38.5a35 35 1 0 0 23 0\" fill=\"none\" stroke-linecap=\"butt\" /><path d=\"M11 29a35 35 1 0 1 23 0M12.5 31.5h20M11.5 34.5a35 35 1 0 0 22 0M10.5 37.5a35 35 1 0 0 24 0\" fill=\"none\" stroke=\"#fff\" /></g><g id=\"black-king\" class=\"black king\" fill=\"none\" fill-rule=\"evenodd\" stroke=\"#000\" stroke-width=\"1.5\" stroke-linecap=\"round\" stroke-linejoin=\"round\"><path d=\"M22.5 11.63V6\" stroke-linejoin=\"miter\" /><path d=\"M22.5 25s4.5-7.5 3-10.5c0 0-1-2.5-3-2.5s-3 2.5-3 2.5c-1.5 3 3 10.5 3 10.5\" fill=\"#000\" stroke-linecap=\"butt\" stroke-linejoin=\"miter\" /><path d=\"M11.5 37c5.5 3.5 15.5 3.5 21 0v-7s9-4.5 6-10.5c-4-6.5-13.5-3.5-16 4V27v-3.5c-3.5-7.5-13-10.5-16-4-3 6 5 10 5 10V37z\" fill=\"#000\" /><path d=\"M20 8h5\" stroke-linejoin=\"miter\" /><path d=\"M32 29.5s8.5-4 6.03-9.65C34.15 14 25 18 22.5 24.5l.01 2.1-.01-2.1C20 18 9.906 14 6.997 19.85c-2.497 5.65 4.853 9 4.853 9M11.5 30c5.5-3 15.5-3 21 0m-21 3.5c5.5-3 15.5-3 21 0m-21 3.5c5.5-3 15.5-3 21 0\" stroke=\"#fff\" /></g></defs><rect x=\"0\" y=\"0\" width=\"390\" height=\"390\" fill=\"#212121\" /><g transform=\"translate(20, 0) scale(0.75, 0.75)\" fill=\"#e5e5e5\" stroke=\"#e5e5e5\"><path d=\"M23.328 10.016q-1.742 0-2.414.398-.672.398-.672 1.36 0 .765.5 1.218.508.445 1.375.445 1.196 0 1.914-.843.727-.852.727-2.258v-.32zm2.867-.594v4.992h-1.437v-1.328q-.492.797-1.227 1.18-.734.375-1.797.375-1.343 0-2.14-.75-.79-.758-.79-2.024 0-1.476.985-2.226.992-.75 2.953-.75h2.016V8.75q0-.992-.656-1.531-.649-.547-1.829-.547-.75 0-1.46.18-.711.18-1.368.539V6.062q.79-.304 1.532-.453.742-.156 1.445-.156 1.898 0 2.836.984.937.985.937 2.985z\" /></g><g transform=\"translate(20, 375) scale(0.75, 0.75)\" fill=\"#e5e5e5\" stroke=\"#e5e5e5\"><path d=\"M23.328 10.016q-1.742 0-2.414.398-.672.398-.672 1.36 0 .765.5 1.218.508.445 1.375.445 1.196 0 1.914-.843.727-.852.727-2.258v-.32zm2.867-.594v4.992h-1.437v-1.328q-.492.797-1.227 1.18-.734.375-1.797.375-1.343 0-2.14-.75-.79-.758-.79-2.024 0-1.476.985-2.226.992-.75 2.953-.75h2.016V8.75q0-.992-.656-1.531-.649-.547-1.829-.547-.75 0-1.46.18-.711.18-1.368.539V6.062q.79-.304 1.532-.453.742-.156 1.445-.156 1.898 0 2.836.984.937.985.937 2.985z\" /></g><g transform=\"translate(65, 0) scale(0.75, 0.75)\" fill=\"#e5e5e5\" stroke=\"#e5e5e5\"><path d=\"M24.922 10.047q0-1.586-.656-2.485-.649-.906-1.79-.906-1.14 0-1.796.906-.649.899-.649 2.485 0 1.586.649 2.492.656.898 1.797.898 1.14 0 1.789-.898.656-.906.656-2.492zm-4.89-3.055q.452-.781 1.14-1.156.695-.383 1.656-.383 1.594 0 2.586 1.266 1 1.265 1 3.328 0 2.062-1 3.328-.992 1.266-2.586 1.266-.96 0-1.656-.375-.688-.383-1.14-1.164v1.312h-1.446V2.258h1.445z\" /></g><g transform=\"translate(65, 375) scale(0.75, 0.75)\" fill=\"#e5e5e5\" stroke=\"#e5e5e5\"><path d=\"M24.922 10.047q0-1.586-.656-2.485-.649-.906-1.79-.906-1.14 0-1.796.906-.649.899-.649 2.485 0 1.586.649 2.492.656.898 1.797.898 1.14 0 1.789-.898.656-.906.656-2.492zm-4.89-3.055q.452-.781 1.14-1.156.695-.383 1.656-.383 1.594 0 2.586 1.266 1 1.265 1 3.328 0 2.062-1 3.328-.992 1.266-2.586 1.266-.96 0-1.656-.375-.688-.383-1.14-1.164v1.312h-1.446V2.258h1.445z\" /></g><g transform=\"translate(110, 0) scale(0.75, 0.75)\" fill=\"#e5e5e5\" stroke=\"#e5e5e5\"><path d=\"M25.96 6v1.344q-.608-.336-1.226-.5-.609-.172-1.234-.172-1.398 0-2.172.89-.773.883-.773 2.485 0 1.601.773 2.492.774.883 2.172.883.625 0 1.234-.164.618-.172 1.227-.508v1.328q-.602.281-1.25.422-.64.14-1.367.14-1.977 0-3.14-1.242-1.165-1.242-1.165-3.351 0-2.14 1.172-3.367 1.18-1.227 3.227-1.227.664 0 1.296.14.633.134 1.227.407z\" /></g><g transform=\"translate(110, 375) scale(0.75, 0.75)\" fill=\"#e5e5e5\" stroke=\"#e5e5e5\"><path d=\"M25.96 6v1.344q-.608-.336-1.226-.5-.609-.172-1.234-.172-1.398 0-2.172.89-.773.883-.773 2.485 0 1.601.773 2.492.774.883 2.172.883.625 0 1.234-.164.618-.172 1.227-.508v1.328q-.602.281-1.25.422-.64.14-1.367.14-1.977 0-3.14-1.242-1.165-1.242-1.165-3.351 0-2.14 1.172-3.367 1.18-1.227 3.227-1.227.664 0 1.296.14.633.134 1.227.407z\" /></g><g transform=\"translate(155, 0) scale(0.75, 0.75)\" fill=\"#e5e5e5\" stroke=\"#e5e5e5\"><path d=\"M24.973 6.992V2.258h1.437v12.156h-1.437v-1.312q-.453.78-1.149 1.164-.687.375-1.656.375-1.586 0-2.586-1.266-.992-1.266-.992-3.328 0-2.063.992-3.328 1-1.266 2.586-1.266.969 0 1.656.383.696.375 1.149 1.156zm-4.899 3.055q0 1.586.649 2.492.656.898 1.797.898 1.14 0 1.796-.898.657-.906.657-2.492 0-1.586-.657-2.485-.656-.906-1.796-.906-1.141 0-1.797.906-.649.899-.649 2.485z\" /></g><g transform=\"translate(155, 375) scale(0.75, 0.75)\" fill=\"#e5e5e5\" stroke=\"#e5e5e5\"><path d=\"M24.973 6.992V2.258h1.437v12.156h-1.437v-1.312q-.453.78-1.149 1.164-.687.375-1.656.375-1.586 0-2.586-1.266-.992-1.266-.992-3.328 0-2.063.992-3.328 1-1.266 2.586-1.266.969 0 1.656.383.696.375 1.149 1.156zm-4.899 3.055q0 1.586.649 2.492.656.898 1.797.898 1.14 0 1.796-.898.657-.906.657-2.492 0-1.586-.657-2.485-.656-.906-1.796-.906-1.141 0-1.797.906-.649.899-.649 2.485z\" /></g><g transform=\"translate(200, 0) scale(0.75, 0.75)\" fill=\"#e5e5e5\" stroke=\"#e5e5e5\"><path d=\"M26.555 9.68v.703h-6.61q.094 1.484.89 2.265.806.774 2.235.774.828 0 1.602-.203.781-.203 1.547-.61v1.36q-.774.328-1.586.5-.813.172-1.649.172-2.093 0-3.32-1.22-1.219-1.218-1.219-3.296 0-2.148 1.157-3.406 1.164-1.266 3.132-1.266 1.766 0 2.79 1.14 1.03 1.134 1.03 3.087zm-1.438-.422q-.015-1.18-.664-1.883-.64-.703-1.703-.703-1.203 0-1.93.68-.718.68-.828 1.914z\" /></g><g transform=\"translate(200, 375) scale(0.75, 0.75)\" fill=\"#e5e5e5\" stroke=\"#e5e5e5\"><path d=\"M26.555 9.68v.703h-6.61q.094 1.484.89 2.265.806.774 2.235.774.828 0 1.602-.203.781-.203 1.547-.61v1.36q-.774.328-1.586.5-.813.172-1.649.172-2.093 0-3.32-1.22-1.219-1.218-1.219-3.296 0-2.148 1.157-3.406 1.164-1.266 3.132-1.266 1.766 0 2.79 1.14 1.03 1.134 1.03 3.087zm-1.438-.422q-.015-1.18-.664-1.883-.64-.703-1.703-.703-1.203 0-1.93.68-.718.68-.828 1.914z\" /></g><g transform=\"translate(245, 0) scale(0.75, 0.75)\" fill=\"#e5e5e5\" stroke=\"#e5e5e5\"><path d=\"M25.285 2.258v1.195H23.91q-.773 0-1.078.313-.297.312-.297 1.125v.773h2.367v1.117h-2.367v7.633H21.09V6.781h-1.375V5.664h1.375v-.61q0-1.46.68-2.124.68-.672 2.156-.672z\" /></g><g transform=\"translate(245, 375) scale(0.75, 0.75)\" fill=\"#e5e5e5\" stroke=\"#e5e5e5\"><path d=\"M25.285 2.258v1.195H23.91q-.773 0-1.078.313-.297.312-.297 1.125v.773h2.367v1.117h-2.367v7.633H21.09V6.781h-1.375V5.664h1.375v-.61q0-1.46.68-2.124.68-.672 2.156-.672z\" /></g><g transform=\"translate(290, 0) scale(0.75, 0.75)\" fill=\"#e5e5e5\" stroke=\"#e5e5e5\"><path d=\"M24.973 9.937q0-1.562-.649-2.421-.64-.86-1.804-.86-1.157 0-1.805.86-.64.859-.64 2.421 0 1.555.64 2.415.648.859 1.805.859 1.164 0 1.804-.86.649-.859.649-2.414zm1.437 3.391q0 2.234-.992 3.32-.992 1.094-3.04 1.094-.757 0-1.429-.117-.672-.11-1.304-.344v-1.398q.632.344 1.25.508.617.164 1.257.164 1.414 0 2.118-.743.703-.734.703-2.226v-.711q-.446.773-1.141 1.156-.695.383-1.664.383-1.61 0-2.594-1.227-.984-1.226-.984-3.25 0-2.03.984-3.257.985-1.227 2.594-1.227.969 0 1.664.383t1.14 1.156V5.664h1.438z\" /></g><g transform=\"translate(290, 375) scale(0.75, 0.75)\" fill=\"#e5e5e5\" stroke=\"#e5e5e5\"><path d=\"M24.973 9.937q0-1.562-.649-2.421-.64-.86-1.804-.86-1.157 0-1.805.86-.64.859-.64 2.421 0 1.555.64 2.415.648.859 1.805.859 1.164 0 1.804-.86.649-.859.649-2.414zm1.437 3.391q0 2.234-.992 3.32-.992 1.094-3.04 1.094-.757 0-1.429-.117-.672-.11-1.304-.344v-1.398q.632.344 1.25.508.617.164 1.257.164 1.414 0 2.118-.743.703-.734.703-2.226v-.711q-.446.773-1.141 1.156-.695.383-1.664.383-1.61 0-2.594-1.227-.984-1.226-.984-3.25 0-2.03.984-3.257.985-1.227 2.594-1.227.969 0 1.664.383t1.14 1.156V5.664h1.438z\" /></g><g transform=\"translate(335, 0) scale(0.75, 0.75)\" fill=\"#e5e5e5\" stroke=\"#e5e5e5\"><path d=\"M26.164 9.133v5.281h-1.437V9.18q0-1.243-.485-1.86-.484-.617-1.453-.617-1.164 0-1.836.742-.672.742-.672 2.024v4.945h-1.445V2.258h1.445v4.765q.516-.789 1.211-1.18.703-.39 1.617-.39 1.508 0 2.282.938.773.93.773 2.742z\" /></g><g transform=\"translate(335, 375) scale(0.75, 0.75)\" fill=\"#e5e5e5\" stroke=\"#e5e5e5\"><path d=\"M26.164 9.133v5.281h-1.437V9.18q0-1.243-.485-1.86-.484-.617-1.453-.617-1.164 0-1.836.742-.672.742-.672 2.024v4.945h-1.445V2.258h1.445v4.765q.516-.789 1.211-1.18.703-.39 1.617-.39 1.508 0 2.282.938.773.93.773 2.742z\" /></g><g transform=\"translate(0, 335) scale(0.75, 0.75)\" fill=\"#e5e5e5\" stroke=\"#e5e5e5\"><path d=\"M6.754 26.996h2.578v-8.898l-2.805.562v-1.437l2.79-.563h1.578v10.336h2.578v1.328h-6.72z\" /></g><g transform=\"translate(375, 335) scale(0.75, 0.75)\" fill=\"#e5e5e5\" stroke=\"#e5e5e5\"><path d=\"M6.754 26.996h2.578v-8.898l-2.805.562v-1.437l2.79-.563h1.578v10.336h2.578v1.328h-6.72z\" /></g><g transform=\"translate(0, 290) scale(0.75, 0.75)\" fill=\"#e5e5e5\" stroke=\"#e5e5e5\"><path d=\"M8.195 26.996h5.508v1.328H6.297v-1.328q.898-.93 2.445-2.492 1.555-1.57 1.953-2.024.758-.851 1.055-1.437.305-.594.305-1.164 0-.93-.657-1.516-.648-.586-1.695-.586-.742 0-1.57.258-.82.258-1.758.781v-1.593q.953-.383 1.781-.578.828-.196 1.516-.196 1.812 0 2.89.906 1.079.907 1.079 2.422 0 .72-.274 1.368-.265.64-.976 1.515-.196.227-1.243 1.313-1.046 1.078-2.953 3.023z\" /></g><g transform=\"translate(375, 290) scale(0.75, 0.75)\" fill=\"#e5e5e5\" stroke=\"#e5e5e5\"><path d=\"M8.195 26.996h5.508v1.328H6.297v-1.328q.898-.93 2.445-2.492 1.555-1.57 1.953-2.024.758-.851 1.055-1.437.305-.594.305-1.164 0-.93-.657-1.516-.648-.586-1.695-.586-.742 0-1.57.258-.82.258-1.758.781v-1.593q.953-.383 1.781-.578.828-.196 1.516-.196 1.812 0 2.89.906 1.079.907 1.079 2.422 0 .72-.274 1.368-.265.64-.976 1.515-.196.227-1.243 1.313-1.046 1.078-2.953 3.023z\" /></g><g transform=\"translate(0, 245) scale(0.75, 0.75)\" fill=\"#e5e5e5\" stroke=\"#e5e5e5\"><path d=\"M11.434 22.035q1.132.242 1.765 1.008.64.766.64 1.89 0 1.727-1.187 2.672-1.187.946-3.375.946-.734 0-1.515-.149-.774-.14-1.602-.43V26.45q.656.383 1.438.578.78.196 1.632.196 1.485 0 2.258-.586.782-.586.782-1.703 0-1.032-.727-1.61-.719-.586-2.008-.586h-1.36v-1.297h1.423q1.164 0 1.78-.46.618-.47.618-1.344 0-.899-.64-1.375-.633-.485-1.82-.485-.65 0-1.391.141-.743.14-1.633.437V16.95q.898-.25 1.68-.375.788-.125 1.484-.125 1.797 0 2.844.82 1.046.813 1.046 2.204 0 .968-.554 1.64-.555.664-1.578.922z\" /></g><g transform=\"translate(375, 245) scale(0.75, 0.75)\" fill=\"#e5e5e5\" stroke=\"#e5e5e5\"><path d=\"M11.434 22.035q1.132.242 1.765 1.008.64.766.64 1.89 0 1.727-1.187 2.672-1.187.946-3.375.946-.734 0-1.515-.149-.774-.14-1.602-.43V26.45q.656.383 1.438.578.78.196 1.632.196 1.485 0 2.258-.586.782-.586.782-1.703 0-1.032-.727-1.61-.719-.586-2.008-.586h-1.36v-1.297h1.423q1.164 0 1.78-.46.618-.47.618-1.344 0-.899-.64-1.375-.633-.485-1.82-.485-.65 0-1.391.141-.743.14-1.633.437V16.95q.898-.25 1.68-.375.788-.125 1.484-.125 1.797 0 2.844.82 1.046.813 1.046 2.204 0 .968-.554 1.64-.555.664-1.578.922z\" /></g><g transform=\"translate(0, 200) scale(0.75, 0.75)\" fill=\"#e5e5e5\" stroke=\"#e5e5e5\"><path d=\"M11.016 18.035L7.03 24.262h3.985zm-.414-1.375h1.984v7.602h1.664v1.312h-1.664v2.75h-1.57v-2.75H5.75v-1.523z\" /></g><g transform=\"translate(375, 200) scale(0.75, 0.75)\" fill=\"#e5e5e5\" stroke=\"#e5e5e5\"><path d=\"M11.016 18.035L7.03 24.262h3.985zm-.414-1.375h1.984v7.602h1.664v1.312h-1.664v2.75h-1.57v-2.75H5.75v-1.523z\" /></g><g transform=\"translate(0, 155) scale(0.75, 0.75)\" fill=\"#e5e5e5\" stroke=\"#e5e5e5\"><path d=\"M6.719 16.66h6.195v1.328h-4.75v2.86q.344-.118.688-.172.343-.063.687-.063 1.953 0 3.094 1.07 1.14 1.07 1.14 2.899 0 1.883-1.171 2.93-1.172 1.039-3.305 1.039-.735 0-1.5-.125-.758-.125-1.57-.375v-1.586q.703.383 1.453.57.75.188 1.586.188 1.351 0 2.14-.711.79-.711.79-1.93 0-1.219-.79-1.93-.789-.71-2.14-.71-.633 0-1.266.14-.625.14-1.281.438z\" /></g><g transform=\"translate(375, 155) scale(0.75, 0.75)\" fill=\"#e5e5e5\" stroke=\"#e5e5e5\"><path d=\"M6.719 16.66h6.195v1.328h-4.75v2.86q.344-.118.688-.172.343-.063.687-.063 1.953 0 3.094 1.07 1.14 1.07 1.14 2.899 0 1.883-1.171 2.93-1.172 1.039-3.305 1.039-.735 0-1.5-.125-.758-.125-1.57-.375v-1.586q.703.383 1.453.57.75.188 1.586.188 1.351 0 2.14-.711.79-.711.79-1.93 0-1.219-.79-1.93-.789-.71-2.14-.71-.633 0-1.266.14-.625.14-1.281.438z\" /></g><g transform=\"translate(0, 110) scale(0.75, 0.75)\" fill=\"#e5e5e5\" stroke=\"#e5e5e5\"><path d=\"M10.137 21.863q-1.063 0-1.688.727-.617.726-.617 1.992 0 1.258.617 1.992.625.727 1.688.727 1.062 0 1.68-.727.624-.734.624-1.992 0-1.266-.625-1.992-.617-.727-1.68-.727zm3.133-4.945v1.437q-.594-.28-1.204-.43-.601-.148-1.195-.148-1.562 0-2.39 1.055-.82 1.055-.938 3.188.46-.68 1.156-1.04.696-.367 1.531-.367 1.758 0 2.774 1.07 1.023 1.063 1.023 2.899 0 1.797-1.062 2.883-1.063 1.086-2.828 1.086-2.024 0-3.094-1.547-1.07-1.555-1.07-4.5 0-2.766 1.312-4.406 1.313-1.649 3.524-1.649.593 0 1.195.117.61.118 1.266.352z\" /></g><g transform=\"translate(375, 110) scale(0.75, 0.75)\" fill=\"#e5e5e5\" stroke=\"#e5e5e5\"><path d=\"M10.137 21.863q-1.063 0-1.688.727-.617.726-.617 1.992 0 1.258.617 1.992.625.727 1.688.727 1.062 0 1.68-.727.624-.734.624-1.992 0-1.266-.625-1.992-.617-.727-1.68-.727zm3.133-4.945v1.437q-.594-.28-1.204-.43-.601-.148-1.195-.148-1.562 0-2.39 1.055-.82 1.055-.938 3.188.46-.68 1.156-1.04.696-.367 1.531-.367 1.758 0 2.774 1.07 1.023 1.063 1.023 2.899 0 1.797-1.062 2.883-1.063 1.086-2.828 1.086-2.024 0-3.094-1.547-1.07-1.555-1.07-4.5 0-2.766 1.312-4.406 1.313-1.649 3.524-1.649.593 0 1.195.117.61.118 1.266.352z\" /></g><g transform=\"translate(0, 65) scale(0.75, 0.75)\" fill=\"#e5e5e5\" stroke=\"#e5e5e5\"><path d=\"M6.25 16.66h7.5v.672L9.516 28.324H7.867l3.985-10.336H6.25z\" /></g><g transform=\"translate(375, 65) scale(0.75, 0.75)\" fill=\"#e5e5e5\" stroke=\"#e5e5e5\"><path d=\"M6.25 16.66h7.5v.672L9.516 28.324H7.867l3.985-10.336H6.25z\" /></g><g transform=\"translate(0, 20) scale(0.75, 0.75)\" fill=\"#e5e5e5\" stroke=\"#e5e5e5\"><path d=\"M10 22.785q-1.125 0-1.773.602-.641.601-.641 1.656t.64 1.656q.649.602 1.774.602t1.773-.602q.649-.61.649-1.656 0-1.055-.649-1.656-.64-.602-1.773-.602zm-1.578-.672q-1.016-.25-1.586-.945-.563-.695-.563-1.695 0-1.399.993-2.211 1-.813 2.734-.813 1.742 0 2.734.813.993.812.993 2.21 0 1-.57 1.696-.563.695-1.571.945 1.14.266 1.773 1.04.641.773.641 1.89 0 1.695-1.04 2.602-1.03.906-2.96.906t-2.969-.906Q6 26.738 6 25.043q0-1.117.64-1.89.641-.774 1.782-1.04zm-.578-2.492q0 .906.562 1.414.57.508 1.594.508 1.016 0 1.586-.508.578-.508.578-1.414 0-.906-.578-1.414-.57-.508-1.586-.508-1.023 0-1.594.508-.562.508-.562 1.414z\" /></g><g transform=\"translate(375, 20) scale(0.75, 0.75)\" fill=\"#e5e5e5\" stroke=\"#e5e5e5\"><path d=\"M10 22.785q-1.125 0-1.773.602-.641.601-.641 1.656t.64 1.656q.649.602 1.774.602t1.773-.602q.649-.61.649-1.656 0-1.055-.649-1.656-.64-.602-1.773-.602zm-1.578-.672q-1.016-.25-1.586-.945-.563-.695-.563-1.695 0-1.399.993-2.211 1-.813 2.734-.813 1.742 0 2.734.813.993.812.993 2.21 0 1-.57 1.696-.563.695-1.571.945 1.14.266 1.773 1.04.641.773.641 1.89 0 1.695-1.04 2.602-1.03.906-2.96.906t-2.969-.906Q6 26.738 6 25.043q0-1.117.64-1.89.641-.774 1.782-1.04zm-.578-2.492q0 .906.562 1.414.57.508 1.594.508 1.016 0 1.586-.508.578-.508.578-1.414 0-.906-.578-1.414-.57-.508-1.586-.508-1.023 0-1.594.508-.562.508-.562 1.414z\" /></g><rect x=\"15\" y=\"330\" width=\"45\" height=\"45\" class=\"square dark a1\" stroke=\"none\" fill=\"#d18b47\" /><rect x=\"60\" y=\"330\" width=\"45\" height=\"45\" class=\"square light b1\" stroke=\"none\" fill=\"#ffce9e\" /><rect x=\"105\" y=\"330\" width=\"45\" height=\"45\" class=\"square dark c1\" stroke=\"none\" fill=\"#d18b47\" /><rect x=\"150\" y=\"330\" width=\"45\" height=\"45\" class=\"square light d1\" stroke=\"none\" fill=\"#ffce9e\" /><rect x=\"195\" y=\"330\" width=\"45\" height=\"45\" class=\"square dark e1\" stroke=\"none\" fill=\"#d18b47\" /><rect x=\"240\" y=\"330\" width=\"45\" height=\"45\" class=\"square light f1\" stroke=\"none\" fill=\"#ffce9e\" /><rect x=\"285\" y=\"330\" width=\"45\" height=\"45\" class=\"square dark g1\" stroke=\"none\" fill=\"#d18b47\" /><rect x=\"330\" y=\"330\" width=\"45\" height=\"45\" class=\"square light h1\" stroke=\"none\" fill=\"#ffce9e\" /><rect x=\"15\" y=\"285\" width=\"45\" height=\"45\" class=\"square light a2\" stroke=\"none\" fill=\"#ffce9e\" /><rect x=\"60\" y=\"285\" width=\"45\" height=\"45\" class=\"square dark b2\" stroke=\"none\" fill=\"#d18b47\" /><rect x=\"105\" y=\"285\" width=\"45\" height=\"45\" class=\"square light c2\" stroke=\"none\" fill=\"#ffce9e\" /><rect x=\"150\" y=\"285\" width=\"45\" height=\"45\" class=\"square dark d2\" stroke=\"none\" fill=\"#d18b47\" /><rect x=\"195\" y=\"285\" width=\"45\" height=\"45\" class=\"square light e2\" stroke=\"none\" fill=\"#ffce9e\" /><rect x=\"240\" y=\"285\" width=\"45\" height=\"45\" class=\"square dark f2\" stroke=\"none\" fill=\"#d18b47\" /><rect x=\"285\" y=\"285\" width=\"45\" height=\"45\" class=\"square light g2\" stroke=\"none\" fill=\"#ffce9e\" /><rect x=\"330\" y=\"285\" width=\"45\" height=\"45\" class=\"square dark h2\" stroke=\"none\" fill=\"#d18b47\" /><rect x=\"15\" y=\"240\" width=\"45\" height=\"45\" class=\"square dark a3\" stroke=\"none\" fill=\"#d18b47\" /><rect x=\"60\" y=\"240\" width=\"45\" height=\"45\" class=\"square light b3\" stroke=\"none\" fill=\"#ffce9e\" /><rect x=\"105\" y=\"240\" width=\"45\" height=\"45\" class=\"square dark c3\" stroke=\"none\" fill=\"#d18b47\" /><rect x=\"150\" y=\"240\" width=\"45\" height=\"45\" class=\"square light d3\" stroke=\"none\" fill=\"#ffce9e\" /><rect x=\"195\" y=\"240\" width=\"45\" height=\"45\" class=\"square dark e3\" stroke=\"none\" fill=\"#d18b47\" /><rect x=\"240\" y=\"240\" width=\"45\" height=\"45\" class=\"square light f3\" stroke=\"none\" fill=\"#ffce9e\" /><rect x=\"285\" y=\"240\" width=\"45\" height=\"45\" class=\"square dark g3\" stroke=\"none\" fill=\"#d18b47\" /><rect x=\"330\" y=\"240\" width=\"45\" height=\"45\" class=\"square light h3\" stroke=\"none\" fill=\"#ffce9e\" /><rect x=\"15\" y=\"195\" width=\"45\" height=\"45\" class=\"square light a4\" stroke=\"none\" fill=\"#ffce9e\" /><rect x=\"60\" y=\"195\" width=\"45\" height=\"45\" class=\"square dark b4\" stroke=\"none\" fill=\"#d18b47\" /><rect x=\"105\" y=\"195\" width=\"45\" height=\"45\" class=\"square light c4\" stroke=\"none\" fill=\"#ffce9e\" /><rect x=\"150\" y=\"195\" width=\"45\" height=\"45\" class=\"square dark d4\" stroke=\"none\" fill=\"#d18b47\" /><rect x=\"195\" y=\"195\" width=\"45\" height=\"45\" class=\"square light e4\" stroke=\"none\" fill=\"#ffce9e\" /><rect x=\"240\" y=\"195\" width=\"45\" height=\"45\" class=\"square dark f4\" stroke=\"none\" fill=\"#d18b47\" /><rect x=\"285\" y=\"195\" width=\"45\" height=\"45\" class=\"square light g4\" stroke=\"none\" fill=\"#ffce9e\" /><rect x=\"330\" y=\"195\" width=\"45\" height=\"45\" class=\"square dark h4\" stroke=\"none\" fill=\"#d18b47\" /><rect x=\"15\" y=\"150\" width=\"45\" height=\"45\" class=\"square dark a5\" stroke=\"none\" fill=\"#d18b47\" /><rect x=\"60\" y=\"150\" width=\"45\" height=\"45\" class=\"square light b5\" stroke=\"none\" fill=\"#ffce9e\" /><rect x=\"105\" y=\"150\" width=\"45\" height=\"45\" class=\"square dark c5\" stroke=\"none\" fill=\"#d18b47\" /><rect x=\"150\" y=\"150\" width=\"45\" height=\"45\" class=\"square light d5\" stroke=\"none\" fill=\"#ffce9e\" /><rect x=\"195\" y=\"150\" width=\"45\" height=\"45\" class=\"square dark e5\" stroke=\"none\" fill=\"#d18b47\" /><rect x=\"240\" y=\"150\" width=\"45\" height=\"45\" class=\"square light f5\" stroke=\"none\" fill=\"#ffce9e\" /><rect x=\"285\" y=\"150\" width=\"45\" height=\"45\" class=\"square dark g5\" stroke=\"none\" fill=\"#d18b47\" /><rect x=\"330\" y=\"150\" width=\"45\" height=\"45\" class=\"square light h5\" stroke=\"none\" fill=\"#ffce9e\" /><rect x=\"15\" y=\"105\" width=\"45\" height=\"45\" class=\"square light a6\" stroke=\"none\" fill=\"#ffce9e\" /><rect x=\"60\" y=\"105\" width=\"45\" height=\"45\" class=\"square dark b6\" stroke=\"none\" fill=\"#d18b47\" /><rect x=\"105\" y=\"105\" width=\"45\" height=\"45\" class=\"square light c6\" stroke=\"none\" fill=\"#ffce9e\" /><rect x=\"150\" y=\"105\" width=\"45\" height=\"45\" class=\"square dark d6\" stroke=\"none\" fill=\"#d18b47\" /><rect x=\"195\" y=\"105\" width=\"45\" height=\"45\" class=\"square light e6\" stroke=\"none\" fill=\"#ffce9e\" /><rect x=\"240\" y=\"105\" width=\"45\" height=\"45\" class=\"square dark f6\" stroke=\"none\" fill=\"#d18b47\" /><rect x=\"285\" y=\"105\" width=\"45\" height=\"45\" class=\"square light g6\" stroke=\"none\" fill=\"#ffce9e\" /><rect x=\"330\" y=\"105\" width=\"45\" height=\"45\" class=\"square dark lastmove h6\" stroke=\"none\" fill=\"#aaa23b\" /><rect x=\"15\" y=\"60\" width=\"45\" height=\"45\" class=\"square dark a7\" stroke=\"none\" fill=\"#d18b47\" /><rect x=\"60\" y=\"60\" width=\"45\" height=\"45\" class=\"square light b7\" stroke=\"none\" fill=\"#ffce9e\" /><rect x=\"105\" y=\"60\" width=\"45\" height=\"45\" class=\"square dark c7\" stroke=\"none\" fill=\"#d18b47\" /><rect x=\"150\" y=\"60\" width=\"45\" height=\"45\" class=\"square light d7\" stroke=\"none\" fill=\"#ffce9e\" /><rect x=\"195\" y=\"60\" width=\"45\" height=\"45\" class=\"square dark e7\" stroke=\"none\" fill=\"#d18b47\" /><rect x=\"240\" y=\"60\" width=\"45\" height=\"45\" class=\"square light f7\" stroke=\"none\" fill=\"#ffce9e\" /><rect x=\"285\" y=\"60\" width=\"45\" height=\"45\" class=\"square dark g7\" stroke=\"none\" fill=\"#d18b47\" /><rect x=\"330\" y=\"60\" width=\"45\" height=\"45\" class=\"square light h7\" stroke=\"none\" fill=\"#ffce9e\" /><rect x=\"15\" y=\"15\" width=\"45\" height=\"45\" class=\"square light a8\" stroke=\"none\" fill=\"#ffce9e\" /><rect x=\"60\" y=\"15\" width=\"45\" height=\"45\" class=\"square dark b8\" stroke=\"none\" fill=\"#d18b47\" /><rect x=\"105\" y=\"15\" width=\"45\" height=\"45\" class=\"square light c8\" stroke=\"none\" fill=\"#ffce9e\" /><rect x=\"150\" y=\"15\" width=\"45\" height=\"45\" class=\"square dark d8\" stroke=\"none\" fill=\"#d18b47\" /><rect x=\"195\" y=\"15\" width=\"45\" height=\"45\" class=\"square light e8\" stroke=\"none\" fill=\"#ffce9e\" /><rect x=\"240\" y=\"15\" width=\"45\" height=\"45\" class=\"square dark f8\" stroke=\"none\" fill=\"#d18b47\" /><rect x=\"285\" y=\"15\" width=\"45\" height=\"45\" class=\"square light lastmove g8\" stroke=\"none\" fill=\"#cdd16a\" /><rect x=\"330\" y=\"15\" width=\"45\" height=\"45\" class=\"square dark h8\" stroke=\"none\" fill=\"#d18b47\" /><use href=\"#white-rook\" xlink:href=\"#white-rook\" transform=\"translate(15, 330)\" /><use href=\"#white-knight\" xlink:href=\"#white-knight\" transform=\"translate(60, 330)\" /><use href=\"#white-bishop\" xlink:href=\"#white-bishop\" transform=\"translate(105, 330)\" /><use href=\"#white-queen\" xlink:href=\"#white-queen\" transform=\"translate(150, 330)\" /><use href=\"#white-king\" xlink:href=\"#white-king\" transform=\"translate(195, 330)\" /><use href=\"#white-bishop\" xlink:href=\"#white-bishop\" transform=\"translate(240, 330)\" /><use href=\"#white-rook\" xlink:href=\"#white-rook\" transform=\"translate(330, 330)\" /><use href=\"#white-pawn\" xlink:href=\"#white-pawn\" transform=\"translate(15, 285)\" /><use href=\"#white-pawn\" xlink:href=\"#white-pawn\" transform=\"translate(60, 285)\" /><use href=\"#white-pawn\" xlink:href=\"#white-pawn\" transform=\"translate(105, 285)\" /><use href=\"#white-pawn\" xlink:href=\"#white-pawn\" transform=\"translate(150, 285)\" /><use href=\"#white-pawn\" xlink:href=\"#white-pawn\" transform=\"translate(195, 285)\" /><use href=\"#white-pawn\" xlink:href=\"#white-pawn\" transform=\"translate(240, 285)\" /><use href=\"#white-pawn\" xlink:href=\"#white-pawn\" transform=\"translate(330, 285)\" /><use href=\"#white-pawn\" xlink:href=\"#white-pawn\" transform=\"translate(285, 240)\" /><use href=\"#white-knight\" xlink:href=\"#white-knight\" transform=\"translate(330, 240)\" /><use href=\"#black-pawn\" xlink:href=\"#black-pawn\" transform=\"translate(150, 105)\" /><use href=\"#black-knight\" xlink:href=\"#black-knight\" transform=\"translate(330, 105)\" /><use href=\"#black-pawn\" xlink:href=\"#black-pawn\" transform=\"translate(15, 60)\" /><use href=\"#black-pawn\" xlink:href=\"#black-pawn\" transform=\"translate(60, 60)\" /><use href=\"#black-pawn\" xlink:href=\"#black-pawn\" transform=\"translate(105, 60)\" /><use href=\"#black-pawn\" xlink:href=\"#black-pawn\" transform=\"translate(195, 60)\" /><use href=\"#black-pawn\" xlink:href=\"#black-pawn\" transform=\"translate(240, 60)\" /><use href=\"#black-pawn\" xlink:href=\"#black-pawn\" transform=\"translate(285, 60)\" /><use href=\"#black-pawn\" xlink:href=\"#black-pawn\" transform=\"translate(330, 60)\" /><use href=\"#black-rook\" xlink:href=\"#black-rook\" transform=\"translate(15, 15)\" /><use href=\"#black-knight\" xlink:href=\"#black-knight\" transform=\"translate(60, 15)\" /><use href=\"#black-bishop\" xlink:href=\"#black-bishop\" transform=\"translate(105, 15)\" /><use href=\"#black-queen\" xlink:href=\"#black-queen\" transform=\"translate(150, 15)\" /><use href=\"#black-king\" xlink:href=\"#black-king\" transform=\"translate(195, 15)\" /><use href=\"#black-bishop\" xlink:href=\"#black-bishop\" transform=\"translate(240, 15)\" /><use href=\"#black-rook\" xlink:href=\"#black-rook\" transform=\"translate(330, 15)\" /></svg>"
     },
     "execution_count": 86,
     "metadata": {},
     "output_type": "execute_result"
    }
   ],
   "source": [
    "test_board"
   ],
   "metadata": {
    "collapsed": false
   }
  },
  {
   "cell_type": "code",
   "execution_count": null,
   "outputs": [],
   "source": [],
   "metadata": {
    "collapsed": false
   }
  }
 ],
 "metadata": {
  "kernelspec": {
   "display_name": "Python 3",
   "language": "python",
   "name": "python3"
  },
  "language_info": {
   "codemirror_mode": {
    "name": "ipython",
    "version": 2
   },
   "file_extension": ".py",
   "mimetype": "text/x-python",
   "name": "python",
   "nbconvert_exporter": "python",
   "pygments_lexer": "ipython2",
   "version": "2.7.6"
  }
 },
 "nbformat": 4,
 "nbformat_minor": 0
}
