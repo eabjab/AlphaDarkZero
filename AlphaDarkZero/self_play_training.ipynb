{
 "cells": [
  {
   "cell_type": "code",
   "execution_count": 1,
   "metadata": {
    "collapsed": true
   },
   "outputs": [],
   "source": [
    "import chess\n",
    "import torch\n",
    "import numpy as np\n",
    "from MoveNN import RLModel\n",
    "from ProbNN import ProbabilityNN\n",
    "from FogOfWarBoard import FogOfWarChessBoard\n",
    "from utils import *"
   ]
  },
  {
   "cell_type": "code",
   "execution_count": 2,
   "outputs": [],
   "source": [
    "prob_model = ProbabilityNN().to('cuda')\n",
    "prob_optim = torch.optim.SGD(prob_model.parameters(), lr=0.01)"
   ],
   "metadata": {
    "collapsed": false
   }
  },
  {
   "cell_type": "code",
   "execution_count": 3,
   "outputs": [],
   "source": [
    "rl_model = RLModel().to('cuda')\n",
    "rl_optim = torch.optim.SGD(rl_model.parameters(), lr=0.01)"
   ],
   "metadata": {
    "collapsed": false
   }
  },
  {
   "cell_type": "code",
   "execution_count": 4,
   "outputs": [],
   "source": [
    "NUM_ITERATIONS = 100\n",
    "NUM_EPISODES = 2"
   ],
   "metadata": {
    "collapsed": false
   }
  },
  {
   "cell_type": "code",
   "execution_count": 5,
   "outputs": [
    {
     "name": "stdout",
     "output_type": "stream",
     "text": [
      "Starting iteration 1\n"
     ]
    },
    {
     "name": "stderr",
     "output_type": "stream",
     "text": [
      "Self-Play iteration 1/100: 100%|██████████| 2/2 [00:13<00:00,  6.77s/it, Game Result=0-1, Games Played=2, Games remaining=0, Game length=214]\n",
      "Training iteration 1/100:   0%|          | 0/2 [00:00<?, ?it/s]"
     ]
    },
    {
     "name": "stdout",
     "output_type": "stream",
     "text": [
      "torch.Size([1, 6, 8, 8])\n"
     ]
    },
    {
     "name": "stderr",
     "output_type": "stream",
     "text": [
      "Training iteration 1/100:   0%|          | 0/2 [00:00<?, ?it/s]\n"
     ]
    },
    {
     "ename": "RuntimeError",
     "evalue": "CUDA error: device-side assert triggered\nCUDA kernel errors might be asynchronously reported at some other API call, so the stacktrace below might be incorrect.\nFor debugging consider passing CUDA_LAUNCH_BLOCKING=1.\nCompile with `TORCH_USE_CUDA_DSA` to enable device-side assertions.\n",
     "output_type": "error",
     "traceback": [
      "\u001B[1;31m---------------------------------------------------------------------------\u001B[0m",
      "\u001B[1;31mRuntimeError\u001B[0m                              Traceback (most recent call last)",
      "Cell \u001B[1;32mIn[5], line 1\u001B[0m\n\u001B[1;32m----> 1\u001B[0m \u001B[43mself_play_loop\u001B[49m\u001B[43m(\u001B[49m\u001B[43mrl_model\u001B[49m\u001B[43m,\u001B[49m\u001B[43m \u001B[49m\u001B[43mrl_optim\u001B[49m\u001B[43m,\u001B[49m\u001B[43m \u001B[49m\u001B[43mprob_model\u001B[49m\u001B[43m,\u001B[49m\u001B[43m \u001B[49m\u001B[43mprob_optim\u001B[49m\u001B[43m,\u001B[49m\u001B[43m \u001B[49m\u001B[43mNUM_ITERATIONS\u001B[49m\u001B[43m,\u001B[49m\u001B[43m \u001B[49m\u001B[43mNUM_EPISODES\u001B[49m\u001B[43m,\u001B[49m\u001B[43m \u001B[49m\u001B[38;5;124;43m'\u001B[39;49m\u001B[38;5;124;43mcuda\u001B[39;49m\u001B[38;5;124;43m'\u001B[39;49m\u001B[43m)\u001B[49m\n",
      "File \u001B[1;32m~\\PycharmProjects\\AlphaDarkZero\\utils.py:431\u001B[0m, in \u001B[0;36mself_play_loop\u001B[1;34m(rl_model, rl_optim, prob_model, prob_optim, num_iterations, num_episodes, device)\u001B[0m\n\u001B[0;32m    429\u001B[0m board \u001B[38;5;241m=\u001B[39m game_history[episode]\n\u001B[0;32m    430\u001B[0m \u001B[38;5;66;03m# Train probability NN and RL model on the game\u001B[39;00m\n\u001B[1;32m--> 431\u001B[0m rl_loss, prob_loss \u001B[38;5;241m=\u001B[39m \u001B[43mtrain_models\u001B[49m\u001B[43m(\u001B[49m\u001B[43mboard\u001B[49m\u001B[43m,\u001B[49m\u001B[43m \u001B[49m\u001B[43mrl_model\u001B[49m\u001B[43m,\u001B[49m\u001B[43m \u001B[49m\u001B[43mrl_optim\u001B[49m\u001B[43m,\u001B[49m\u001B[43m \u001B[49m\u001B[43mprob_model\u001B[49m\u001B[43m,\u001B[49m\u001B[43m \u001B[49m\u001B[43mprob_optim\u001B[49m\u001B[43m)\u001B[49m\n\u001B[0;32m    432\u001B[0m \u001B[38;5;66;03m# print(f\"Value loss: {rl_loss}, Probability loss: {prob_loss}\")\u001B[39;00m\n\u001B[0;32m    433\u001B[0m \u001B[38;5;66;03m# Update the progress bar with the training losses\u001B[39;00m\n\u001B[0;32m    434\u001B[0m pbar\u001B[38;5;241m.\u001B[39mset_postfix({\u001B[38;5;124m\"\u001B[39m\u001B[38;5;124mValue loss\u001B[39m\u001B[38;5;124m\"\u001B[39m: rl_loss, \u001B[38;5;124m\"\u001B[39m\u001B[38;5;124mProbability loss\u001B[39m\u001B[38;5;124m\"\u001B[39m: prob_loss})\n",
      "File \u001B[1;32m~\\PycharmProjects\\AlphaDarkZero\\utils.py:345\u001B[0m, in \u001B[0;36mtrain_models\u001B[1;34m(board, rl_model, rl_optim, prob_model, prob_optim, discount_factor, device)\u001B[0m\n\u001B[0;32m    342\u001B[0m     tot_val_loss \u001B[38;5;241m+\u001B[39m\u001B[38;5;241m=\u001B[39m rl_loss\u001B[38;5;241m.\u001B[39mitem()\n\u001B[0;32m    344\u001B[0m     \u001B[38;5;66;03m# Train probability NN\u001B[39;00m\n\u001B[1;32m--> 345\u001B[0m     prob_loss \u001B[38;5;241m=\u001B[39m \u001B[43mtrain_probability_nn\u001B[49m\u001B[43m(\u001B[49m\u001B[43mprob_model\u001B[49m\u001B[43m,\u001B[49m\u001B[43m \u001B[49m\u001B[43mprob_optim\u001B[49m\u001B[43m,\u001B[49m\u001B[43m \u001B[49m\u001B[43mcurrent_board\u001B[49m\u001B[43m)\u001B[49m\n\u001B[0;32m    346\u001B[0m     tot_prob_loss \u001B[38;5;241m+\u001B[39m\u001B[38;5;241m=\u001B[39m prob_loss\n\u001B[0;32m    348\u001B[0m \u001B[38;5;28;01mreturn\u001B[39;00m tot_val_loss \u001B[38;5;241m/\u001B[39m \u001B[38;5;28mlen\u001B[39m(game_history), tot_prob_loss \u001B[38;5;241m/\u001B[39m \u001B[38;5;28mlen\u001B[39m(game_history)\n",
      "File \u001B[1;32m~\\PycharmProjects\\AlphaDarkZero\\utils.py:218\u001B[0m, in \u001B[0;36mtrain_probability_nn\u001B[1;34m(probability_nn, prob_optim, board, device)\u001B[0m\n\u001B[0;32m    215\u001B[0m \u001B[38;5;66;03m# Update the model weights\u001B[39;00m\n\u001B[0;32m    216\u001B[0m \u001B[38;5;66;03m# optimizer = optim.SGD(lr=0.01, momentum=0.9, params=probability_nn.parameters())\u001B[39;00m\n\u001B[0;32m    217\u001B[0m prob_optim\u001B[38;5;241m.\u001B[39mzero_grad()\n\u001B[1;32m--> 218\u001B[0m \u001B[43mloss\u001B[49m\u001B[38;5;241;43m.\u001B[39;49m\u001B[43mbackward\u001B[49m\u001B[43m(\u001B[49m\u001B[43m)\u001B[49m\n\u001B[0;32m    219\u001B[0m prob_optim\u001B[38;5;241m.\u001B[39mstep()\n\u001B[0;32m    221\u001B[0m \u001B[38;5;28;01mreturn\u001B[39;00m loss\u001B[38;5;241m.\u001B[39mitem()\n",
      "File \u001B[1;32m~\\AppData\\Local\\Programs\\Python\\Python311\\Lib\\site-packages\\torch\\_tensor.py:487\u001B[0m, in \u001B[0;36mTensor.backward\u001B[1;34m(self, gradient, retain_graph, create_graph, inputs)\u001B[0m\n\u001B[0;32m    477\u001B[0m \u001B[38;5;28;01mif\u001B[39;00m has_torch_function_unary(\u001B[38;5;28mself\u001B[39m):\n\u001B[0;32m    478\u001B[0m     \u001B[38;5;28;01mreturn\u001B[39;00m handle_torch_function(\n\u001B[0;32m    479\u001B[0m         Tensor\u001B[38;5;241m.\u001B[39mbackward,\n\u001B[0;32m    480\u001B[0m         (\u001B[38;5;28mself\u001B[39m,),\n\u001B[1;32m   (...)\u001B[0m\n\u001B[0;32m    485\u001B[0m         inputs\u001B[38;5;241m=\u001B[39minputs,\n\u001B[0;32m    486\u001B[0m     )\n\u001B[1;32m--> 487\u001B[0m \u001B[43mtorch\u001B[49m\u001B[38;5;241;43m.\u001B[39;49m\u001B[43mautograd\u001B[49m\u001B[38;5;241;43m.\u001B[39;49m\u001B[43mbackward\u001B[49m\u001B[43m(\u001B[49m\n\u001B[0;32m    488\u001B[0m \u001B[43m    \u001B[49m\u001B[38;5;28;43mself\u001B[39;49m\u001B[43m,\u001B[49m\u001B[43m \u001B[49m\u001B[43mgradient\u001B[49m\u001B[43m,\u001B[49m\u001B[43m \u001B[49m\u001B[43mretain_graph\u001B[49m\u001B[43m,\u001B[49m\u001B[43m \u001B[49m\u001B[43mcreate_graph\u001B[49m\u001B[43m,\u001B[49m\u001B[43m \u001B[49m\u001B[43minputs\u001B[49m\u001B[38;5;241;43m=\u001B[39;49m\u001B[43minputs\u001B[49m\n\u001B[0;32m    489\u001B[0m \u001B[43m\u001B[49m\u001B[43m)\u001B[49m\n",
      "File \u001B[1;32m~\\AppData\\Local\\Programs\\Python\\Python311\\Lib\\site-packages\\torch\\autograd\\__init__.py:204\u001B[0m, in \u001B[0;36mbackward\u001B[1;34m(tensors, grad_tensors, retain_graph, create_graph, grad_variables, inputs)\u001B[0m\n\u001B[0;32m    199\u001B[0m     retain_graph \u001B[38;5;241m=\u001B[39m create_graph\n\u001B[0;32m    201\u001B[0m \u001B[38;5;66;03m# The reason we repeat same the comment below is that\u001B[39;00m\n\u001B[0;32m    202\u001B[0m \u001B[38;5;66;03m# some Python versions print out the first line of a multi-line function\u001B[39;00m\n\u001B[0;32m    203\u001B[0m \u001B[38;5;66;03m# calls in the traceback and some print out the last line\u001B[39;00m\n\u001B[1;32m--> 204\u001B[0m \u001B[43mVariable\u001B[49m\u001B[38;5;241;43m.\u001B[39;49m\u001B[43m_execution_engine\u001B[49m\u001B[38;5;241;43m.\u001B[39;49m\u001B[43mrun_backward\u001B[49m\u001B[43m(\u001B[49m\u001B[43m  \u001B[49m\u001B[38;5;66;43;03m# Calls into the C++ engine to run the backward pass\u001B[39;49;00m\n\u001B[0;32m    205\u001B[0m \u001B[43m    \u001B[49m\u001B[43mtensors\u001B[49m\u001B[43m,\u001B[49m\u001B[43m \u001B[49m\u001B[43mgrad_tensors_\u001B[49m\u001B[43m,\u001B[49m\u001B[43m \u001B[49m\u001B[43mretain_graph\u001B[49m\u001B[43m,\u001B[49m\u001B[43m \u001B[49m\u001B[43mcreate_graph\u001B[49m\u001B[43m,\u001B[49m\u001B[43m \u001B[49m\u001B[43minputs\u001B[49m\u001B[43m,\u001B[49m\n\u001B[0;32m    206\u001B[0m \u001B[43m    \u001B[49m\u001B[43mallow_unreachable\u001B[49m\u001B[38;5;241;43m=\u001B[39;49m\u001B[38;5;28;43;01mTrue\u001B[39;49;00m\u001B[43m,\u001B[49m\u001B[43m \u001B[49m\u001B[43maccumulate_grad\u001B[49m\u001B[38;5;241;43m=\u001B[39;49m\u001B[38;5;28;43;01mTrue\u001B[39;49;00m\u001B[43m)\u001B[49m\n",
      "\u001B[1;31mRuntimeError\u001B[0m: CUDA error: device-side assert triggered\nCUDA kernel errors might be asynchronously reported at some other API call, so the stacktrace below might be incorrect.\nFor debugging consider passing CUDA_LAUNCH_BLOCKING=1.\nCompile with `TORCH_USE_CUDA_DSA` to enable device-side assertions.\n"
     ]
    }
   ],
   "source": [
    "self_play_loop(rl_model, rl_optim, prob_model, prob_optim, NUM_ITERATIONS, NUM_EPISODES, 'cuda')"
   ],
   "metadata": {
    "collapsed": false
   }
  },
  {
   "cell_type": "code",
   "execution_count": null,
   "outputs": [],
   "source": [],
   "metadata": {
    "collapsed": false
   }
  }
 ],
 "metadata": {
  "kernelspec": {
   "display_name": "Python 3",
   "language": "python",
   "name": "python3"
  },
  "language_info": {
   "codemirror_mode": {
    "name": "ipython",
    "version": 2
   },
   "file_extension": ".py",
   "mimetype": "text/x-python",
   "name": "python",
   "nbconvert_exporter": "python",
   "pygments_lexer": "ipython2",
   "version": "2.7.6"
  }
 },
 "nbformat": 4,
 "nbformat_minor": 0
}
